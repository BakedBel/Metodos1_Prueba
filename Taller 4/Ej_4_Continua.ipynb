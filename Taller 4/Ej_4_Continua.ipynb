{
  "nbformat": 4,
  "nbformat_minor": 0,
  "metadata": {
    "colab": {
      "provenance": []
    },
    "kernelspec": {
      "name": "python3",
      "display_name": "Python 3"
    },
    "language_info": {
      "name": "python"
    }
  },
  "cells": [
    {
      "cell_type": "code",
      "execution_count": 4,
      "metadata": {
        "colab": {
          "base_uri": "https://localhost:8080/"
        },
        "id": "0tsfkrsLQhYc",
        "outputId": "a7956137-282a-4f0c-bbc0-2d16334c7620"
      },
      "outputs": [
        {
          "output_type": "stream",
          "name": "stdout",
          "text": [
            "Valor esperado: 2.977129285546109\n"
          ]
        }
      ],
      "source": [
        "import numpy as np\n",
        "\n",
        "def g(x):\n",
        "    g = np.exp(2 * x / 3)\n",
        "    return g\n",
        "\n",
        "def f(x):\n",
        "    if x > 0:\n",
        "      f = np.exp(-x) \n",
        "    else:\n",
        "      f = 0\n",
        "    return f\n",
        "\n",
        "num_samples = 1000000  \n",
        "samples = np.random.exponential(scale=1, size=num_samples)\n",
        "expected_value = np.mean(g(samples))\n",
        "\n",
        "print(\"Valor esperado:\", expected_value)\n"
      ]
    }
  ]
}