{
  "nbformat": 4,
  "nbformat_minor": 0,
  "metadata": {
    "colab": {
      "provenance": []
    },
    "kernelspec": {
      "name": "python3",
      "display_name": "Python 3"
    },
    "language_info": {
      "name": "python"
    }
  },
  "cells": [
    {
      "cell_type": "code",
      "execution_count": 5,
      "metadata": {
        "colab": {
          "base_uri": "https://localhost:8080/"
        },
        "id": "qe904vxfrOjU",
        "outputId": "564a4dc9-2a0a-4bd5-b7e1-a050611b5f12"
      },
      "outputs": [
        {
          "output_type": "stream",
          "name": "stdout",
          "text": [
            "Varianza promedio calculada: 0.24983275713960046\n"
          ]
        }
      ],
      "source": [
        "import numpy as np\n",
        "\n",
        "np.random.seed(0) \n",
        "N = int(1e6) \n",
        "n = 20 \n",
        "theta = 2  \n",
        "\n",
        "variance_sum = 0\n",
        "\n",
        "for _ in range(N):\n",
        "    sample = np.random.exponential(scale=1/theta, size=n)  \n",
        "    sample_mean = np.mean(sample) \n",
        "    sample_variance = np.var(sample, ddof=1) \n",
        "    variance_sum += sample_variance\n",
        "\n",
        "variance_average = variance_sum / N\n",
        "\n",
        "#Se demora un poquito en correr por favor tenerle paciencia\n",
        "print(\"Varianza promedio calculada:\", variance_average)\n"
      ]
    }
  ]
}