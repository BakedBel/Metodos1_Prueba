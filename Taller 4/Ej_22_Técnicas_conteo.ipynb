{
  "nbformat": 4,
  "nbformat_minor": 0,
  "metadata": {
    "colab": {
      "provenance": []
    },
    "kernelspec": {
      "name": "python3",
      "display_name": "Python 3"
    },
    "language_info": {
      "name": "python"
    }
  },
  "cells": [
    {
      "cell_type": "code",
      "execution_count": 1,
      "metadata": {
        "colab": {
          "base_uri": "https://localhost:8080/"
        },
        "id": "_j81pcHXm5XY",
        "outputId": "4ea28428-a1b5-427a-a0d6-17ceb2cd749c"
      },
      "outputs": [
        {
          "output_type": "stream",
          "name": "stdout",
          "text": [
            "El número de sumas de 3 enteros no negativos que dan 10 es: 66\n"
          ]
        }
      ],
      "source": [
        "contador = 0\n",
        "\n",
        "for i in range(11):\n",
        "    for j in range(11):\n",
        "        for k in range(11):\n",
        "            if i + j + k == 10:\n",
        "                contador += 1\n",
        "\n",
        "print(\"El número de sumas de 3 enteros no negativos que dan 10 es:\", contador)\n"
      ]
    }
  ]
}