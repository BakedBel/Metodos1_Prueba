{
  "nbformat": 4,
  "nbformat_minor": 0,
  "metadata": {
    "colab": {
      "provenance": []
    },
    "kernelspec": {
      "name": "python3",
      "display_name": "Python 3"
    },
    "language_info": {
      "name": "python"
    }
  },
  "cells": [
    {
      "cell_type": "code",
      "execution_count": null,
      "metadata": {
        "id": "3OaFY62eTXOp"
      },
      "outputs": [],
      "source": [
        "import numpy as np\n",
        "from scipy.special import factorial"
      ]
    },
    {
      "cell_type": "code",
      "source": [
        "N = 8"
      ],
      "metadata": {
        "id": "8WZUAGhAaWVT"
      },
      "execution_count": null,
      "outputs": []
    },
    {
      "cell_type": "code",
      "source": [
        "def f(x,y):\n",
        "    n = 4-x-y\n",
        "    if n < 0:\n",
        "      n=0\n",
        "    Pe = factorial(3)/factorial(x)\n",
        "    Pp = factorial(2)/factorial(y)\n",
        "    Pn = factorial(3)/factorial(n)\n",
        "    Deno = factorial(8)/factorial(4)\n",
        "    return Pe*Pp*Pn/Deno"
      ],
      "metadata": {
        "id": "KCjdkelXVByr"
      },
      "execution_count": null,
      "outputs": []
    },
    {
      "cell_type": "code",
      "source": [
        "P = np.zeros((3,4))\n",
        "for p in range(3):\n",
        "  for e in range(4):\n",
        "    if 4-p-e>3 or 4-e-p<0:\n",
        "      P[p][e]=0\n",
        "    else:\n",
        "      P[p][e]=f(e,p)\n",
        "\n",
        "#g=np.dot(np.ones(3),P)\n",
        "#h=np.dot(P,np.ones(4))\n",
        "i = P.sum()\n",
        "yu = P/i\n",
        "g = np.sum(yu, axis =0)\n",
        "h = np.sum(yu,axis = 1)\n",
        "print(g,h)"
      ],
      "metadata": {
        "colab": {
          "base_uri": "https://localhost:8080/"
        },
        "id": "iCJvzhqQYuDW",
        "outputId": "232606af-cb53-4f0f-e247-5c98cd3d72bf"
      },
      "execution_count": null,
      "outputs": [
        {
          "output_type": "stream",
          "name": "stdout",
          "text": [
            "[0.14285714 0.4        0.34285714 0.11428571] [0.2        0.45714286 0.34285714]\n"
          ]
        }
      ]
    },
    {
      "cell_type": "code",
      "source": [
        "Elec = np.array([0,1,2,3])\n",
        "Pepe = round(np.sum(Elec*g),2)\n",
        "print(Pepe)\n",
        "print(105/70)"
      ],
      "metadata": {
        "colab": {
          "base_uri": "https://localhost:8080/"
        },
        "id": "MXQ8WQe5b0uk",
        "outputId": "703e886f-1c48-4fbe-ab18-1360e972de8e"
      },
      "execution_count": null,
      "outputs": [
        {
          "output_type": "stream",
          "name": "stdout",
          "text": [
            "1.43\n",
            "1.5\n"
          ]
        }
      ]
    },
    {
      "cell_type": "code",
      "source": [
        "Prot = np.array([0,1,2])\n",
        "PPPP = round(np.sum(Prot*h),2)\n",
        "print(PPPP)\n",
        "print(1)"
      ],
      "metadata": {
        "colab": {
          "base_uri": "https://localhost:8080/"
        },
        "id": "TDND4-dvmiBY",
        "outputId": "3949b207-aac0-4a7a-958d-ede4277f66f0"
      },
      "execution_count": null,
      "outputs": [
        {
          "output_type": "stream",
          "name": "stdout",
          "text": [
            "1.14\n",
            "1\n"
          ]
        }
      ]
    },
    {
      "cell_type": "code",
      "source": [
        "Pipo=0\n",
        "for i in range(4):\n",
        "    for j in range(3):\n",
        "        Pipo+=i*j*f(i,j)\n",
        "c_var=Pipo-PPPP*Pepe\n",
        "c_var"
      ],
      "metadata": {
        "colab": {
          "base_uri": "https://localhost:8080/"
        },
        "id": "Oj-NkVokh--k",
        "outputId": "fbf98d30-ed38-4d73-94f9-231ea826fd7d"
      },
      "execution_count": null,
      "outputs": [
        {
          "output_type": "execute_result",
          "data": {
            "text/plain": [
              "-1.437342857142857"
            ]
          },
          "metadata": {},
          "execution_count": 84
        }
      ]
    },
    {
      "cell_type": "code",
      "source": [
        "Pope=0\n",
        "for i in range(4):\n",
        "    for j in range(3):\n",
        "        Pope+=(i-Pepe)*(j-PPPP)*f(i,j)\n",
        "C_var2 =Pope-PPPP*Pepe\n",
        "C_var2"
      ],
      "metadata": {
        "id": "14DP9kleb02V",
        "colab": {
          "base_uri": "https://localhost:8080/"
        },
        "outputId": "28e42713-d74b-4a10-9727-61dec32fea5f"
      },
      "execution_count": null,
      "outputs": [
        {
          "output_type": "execute_result",
          "data": {
            "text/plain": [
              "-1.655120357142857"
            ]
          },
          "metadata": {},
          "execution_count": 87
        }
      ]
    },
    {
      "cell_type": "code",
      "source": [
        "print(\"Las variables x e y son dependientes, pues, la covarianza teorica es distinta de cero\")"
      ],
      "metadata": {
        "id": "R3wnYXaMajSl",
        "colab": {
          "base_uri": "https://localhost:8080/"
        },
        "outputId": "0bdd4d47-6d8b-48e6-e234-285b48ddd227"
      },
      "execution_count": null,
      "outputs": [
        {
          "output_type": "stream",
          "name": "stdout",
          "text": [
            "Las variables x e y son dependientes, pues, la covarianza teorica es distinta de cero\n"
          ]
        }
      ]
    }
  ]
}