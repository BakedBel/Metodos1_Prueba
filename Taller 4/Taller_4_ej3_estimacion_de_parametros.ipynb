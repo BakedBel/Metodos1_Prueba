{
  "nbformat": 4,
  "nbformat_minor": 0,
  "metadata": {
    "colab": {
      "provenance": []
    },
    "kernelspec": {
      "name": "python3",
      "display_name": "Python 3"
    },
    "language_info": {
      "name": "python"
    }
  },
  "cells": [
    {
      "cell_type": "code",
      "execution_count": 4,
      "metadata": {
        "id": "jSRKu63U4a2a"
      },
      "outputs": [],
      "source": [
        "import numpy as np\n",
        "import matplotlib.pyplot as plt\n",
        "from mpl_toolkits.mplot3d import Axes3D\n",
        "from matplotlib import rc \n",
        "from matplotlib import cm\n",
        "import pandas as pd\n",
        "from tqdm import tqdm\n",
        "from scipy.integrate import dblquad\n",
        "from scipy.integrate import quad"
      ]
    },
    {
      "cell_type": "code",
      "source": [
        "file = 'Gaussiana.csv'\n",
        "url = 'https://raw.githubusercontent.com/asegura4488/Database/main/MetodosComputacionalesReforma/Gaussiano.csv'\n",
        "\n",
        "data = pd.read_csv(url,sep=\",\",engine='python')\n",
        "X = data.x\n"
      ],
      "metadata": {
        "id": "mZehwA7s8e6s"
      },
      "execution_count": 5,
      "outputs": []
    },
    {
      "cell_type": "code",
      "source": [
        "def Like_v(x, data):\n",
        "    exponent = -0.5 * (x[0] - data) ** 2 / x[1] ** 2\n",
        "    numerator = np.exp(exponent)\n",
        "    denominator = np.sqrt(2 * np.pi * x[1] ** 2)\n",
        "    return numerator / denominator\n",
        "def Tr_ms(x):\n",
        "    return [np.random.normal(x[0], 0.5, (1,)), np.random.normal(x[1], 0.5, (1,))]"
      ],
      "metadata": {
        "id": "aLZB-Xm8lmbl"
      },
      "execution_count": 17,
      "outputs": []
    },
    {
      "cell_type": "code",
      "source": [
        "def Op(x):\n",
        "    if 3. <= x[0] <= 5. and 0.5 <= x[1] <= 3.5:\n",
        "        return 1\n",
        "    else:\n",
        "        return 0"
      ],
      "metadata": {
        "id": "vmJ4EKrflolH"
      },
      "execution_count": 18,
      "outputs": []
    },
    {
      "cell_type": "code",
      "source": [
        "def Like_v(x, data):\n",
        "    exponent = -0.5 * (x[0] - data) ** 2 / x[1] ** 2\n",
        "    numerator = np.exp(exponent)\n",
        "    denominator = np.sqrt(2 * np.pi * x[1] ** 2)\n",
        "    return numerator / denominator"
      ],
      "metadata": {
        "id": "2v0SNNUQlwOJ"
      },
      "execution_count": 19,
      "outputs": []
    },
    {
      "cell_type": "code",
      "source": [
        "def is_greater(x, x_new):\n",
        "    return x_new > x\n",
        "\n",
        "def acceptance(x, x_new):\n",
        "    return is_greater(x, x_new) or np.random.uniform(0, 1) < np.exp(x_new - x)"
      ],
      "metadata": {
        "id": "9BBTqBVIlxPc"
      },
      "execution_count": 26,
      "outputs": []
    },
    {
      "cell_type": "code",
      "source": [
        "def initialize_accepted_array(It_):\n",
        "    return np.zeros((It_, 2))\n",
        "\n",
        "def generate_accepted_samples(accepted, index, x):\n",
        "    accepted[index] = x\n",
        "    return accepted, index + 1"
      ],
      "metadata": {
        "id": "I-ATRZNSl7T_"
      },
      "execution_count": 27,
      "outputs": []
    },
    {
      "cell_type": "code",
      "source": [
        "def metropolis_hastings(Like_v_computer, Op, Tr_ms, param_init, It_, data, acceptance):\n",
        "    x = param_init\n",
        "    accepted = initialize_accepted_array(It_)\n",
        "    index = 0\n",
        "    for i in tqdm(range(It_)):\n",
        "        x_new = Tr_ms(x)\n",
        "        x_lik = Like_v_computer(x, data)\n",
        "        x_new_lik = Like_v_computer(x_new, data)\n",
        "        \n",
        "        if acceptance(x_lik + np.log(Op(x)), x_new_lik + np.log(Op(x_new))):\n",
        "            x = x_new\n",
        "        \n",
        "        if i >= 1000:\n",
        "            accepted, index = generate_accepted_samples(accepted, index, x)\n",
        "    \n",
        "    return accepted[index:, :]\n",
        "\n",
        "def Log_Like_v(x, data):\n",
        "    Like_v_values = Like_v(x, data)\n",
        "    log_Like_v_values = np.log(Like_v_values)\n",
        "    return np.sum(log_Like_v_values)\n",
        "\n",
        "accepted = metropolis_hastings(Log_Like_v,Op,Tr_ms,[2,3], 20000,X,acceptance)\n",
        "_x = np.linspace(np.min(X),np.max(X),100)\n",
        "plt.hist(X,density=True)"
      ],
      "metadata": {
        "colab": {
          "base_uri": "https://localhost:8080/",
          "height": 710
        },
        "id": "Av9u4ibl8D2Z",
        "outputId": "6b573fe6-def2-48cf-a389-4be59425a69d"
      },
      "execution_count": 31,
      "outputs": [
        {
          "output_type": "stream",
          "name": "stderr",
          "text": [
            "  0%|          | 0/20000 [00:00<?, ?it/s]<ipython-input-31-c66e53cf240a>:10: RuntimeWarning: divide by zero encountered in log\n",
            "  if acceptance(x_lik + np.log(Op(x)), x_new_lik + np.log(Op(x_new))):\n",
            "<ipython-input-26-78d242fe19f0>:9: RuntimeWarning: invalid value encountered in double_scalars\n",
            "  return is_greater(x, x_new) or np.random.uniform(0, 1) < np.exp(x_new - x)\n",
            "  5%|▍         | 997/20000 [00:03<01:15, 250.67it/s]<ipython-input-27-e9268723b2ba>:5: DeprecationWarning: setting an array element with a sequence. This was supported in some cases where the elements are arrays with a single element. For example `np.array([1, np.array([2])], dtype=int)`. In the future this will raise the same ValueError as `np.array([1, [2]], dtype=int)`.\n",
            "  accepted[index] = x\n",
            " 19%|█▊        | 3703/20000 [00:11<00:27, 590.22it/s]/usr/local/lib/python3.10/dist-packages/pandas/core/arraylike.py:402: RuntimeWarning: divide by zero encountered in log\n",
            "  result = getattr(ufunc, method)(*inputs, **kwargs)\n",
            "100%|██████████| 20000/20000 [00:40<00:00, 488.99it/s]\n"
          ]
        },
        {
          "output_type": "execute_result",
          "data": {
            "text/plain": [
              "(array([0.03185085, 0.09555256, 0.06370171, 0.13802037, 0.26542378,\n",
              "        0.20172208, 0.14863732, 0.08493561, 0.0212339 , 0.01061695]),\n",
              " array([-0.3806526 ,  0.56123737,  1.50312733,  2.4450173 ,  3.38690727,\n",
              "         4.32879724,  5.2706872 ,  6.21257717,  7.15446714,  8.0963571 ,\n",
              "         9.03824707]),\n",
              " <BarContainer object of 10 artists>)"
            ]
          },
          "metadata": {},
          "execution_count": 31
        },
        {
          "output_type": "display_data",
          "data": {
            "text/plain": [
              "<Figure size 640x480 with 1 Axes>"
            ],
            "image/png": "[encoded data removed]"
          },
          "metadata": {}
        }
      ]
    }
  ]
}