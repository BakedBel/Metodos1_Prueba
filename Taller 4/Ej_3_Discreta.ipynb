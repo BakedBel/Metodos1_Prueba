{
  "nbformat": 4,
  "nbformat_minor": 0,
  "metadata": {
    "colab": {
      "provenance": []
    },
    "kernelspec": {
      "name": "python3",
      "display_name": "Python 3"
    },
    "language_info": {
      "name": "python"
    }
  },
  "cells": [
    {
      "cell_type": "code",
      "execution_count": 8,
      "metadata": {
        "colab": {
          "base_uri": "https://localhost:8080/"
        },
        "id": "zKWTVRnYTwfo",
        "outputId": "0bfeb5e3-39b2-4fcd-d65b-1f6453848ecb"
      },
      "outputs": [
        {
          "output_type": "stream",
          "name": "stdout",
          "text": [
            "f(0) = 0.4666666666666667\n",
            "f(1) = 0.4666666666666667\n",
            "f(2) = 0.06666666666666667\n"
          ]
        }
      ],
      "source": [
        "import math\n",
        "\n",
        "def probabilidad_defectuosos(x):\n",
        "    if x <= 2 and 0 <= x <= 3:\n",
        "        numerador = (math.comb(3, x) * math.comb(7, 2 - x))\n",
        "        denominador = math.comb(10, 2)\n",
        "        r = numerador / denominador\n",
        "    else:\n",
        "        r=0\n",
        "        \n",
        "    return r\n",
        "\n",
        "probabilidad_x0 = probabilidad_defectuosos(0)\n",
        "probabilidad_x1 = probabilidad_defectuosos(1)\n",
        "probabilidad_x2 = probabilidad_defectuosos(2)\n",
        "\n",
        "print(\"f(0) =\", probabilidad_x0)\n",
        "print(\"f(1) =\", probabilidad_x1)\n",
        "print(\"f(2) =\", probabilidad_x2)\n"
      ]
    },
    {
      "cell_type": "code",
      "source": [
        "probabilidad = [21/45, 21/45, 1/15]\n",
        "valores = [0, 1, 2]\n",
        "\n",
        "valor_esperado = sum(p * x for p, x in zip(probabilidad, valores))\n",
        "\n",
        "print(\"El valor esperado de microchips defectuosos es:\", valor_esperado)\n"
      ],
      "metadata": {
        "colab": {
          "base_uri": "https://localhost:8080/"
        },
        "id": "wDIxNw9qT2XS",
        "outputId": "93bc2ccd-46ba-4ff4-fa74-139a61a706b2"
      },
      "execution_count": 6,
      "outputs": [
        {
          "output_type": "stream",
          "name": "stdout",
          "text": [
            "El valor esperado de microchips defectuosos es: 0.6\n"
          ]
        }
      ]
    }
  ]
}