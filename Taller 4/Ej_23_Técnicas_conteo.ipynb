{
  "nbformat": 4,
  "nbformat_minor": 0,
  "metadata": {
    "colab": {
      "provenance": []
    },
    "kernelspec": {
      "name": "python3",
      "display_name": "Python 3"
    },
    "language_info": {
      "name": "python"
    }
  },
  "cells": [
    {
      "cell_type": "code",
      "execution_count": null,
      "metadata": {
        "colab": {
          "base_uri": "https://localhost:8080/"
        },
        "id": "bCMIVkiYYSd2",
        "outputId": "aeed31f6-73d4-49e5-d3c1-debf7d116bd9"
      },
      "outputs": [
        {
          "output_type": "stream",
          "name": "stdout",
          "text": [
            "12.0\n"
          ]
        }
      ],
      "source": [
        "import numpy as np\n",
        "\n",
        "r=4 \n",
        "n=3 \n",
        "\n",
        "combinacion= (np.math.factorial(r+n-1))/(np.math.factorial(r)*np.math.factorial(n-1))\n",
        "combinacion=combinacion-3\n",
        "\n",
        "print(combinacion)"
      ]
    }
  ]
}