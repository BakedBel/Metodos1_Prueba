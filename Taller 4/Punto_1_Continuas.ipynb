{
  "nbformat": 4,
  "nbformat_minor": 0,
  "metadata": {
    "colab": {
      "provenance": []
    },
    "kernelspec": {
      "name": "python3",
      "display_name": "Python 3"
    },
    "language_info": {
      "name": "python"
    }
  },
  "cells": [
    {
      "cell_type": "code",
      "execution_count": 20,
      "metadata": {
        "id": "Pvc2MIhcLXmk"
      },
      "outputs": [],
      "source": [
        "from sympy import symbols, integrate"
      ]
    },
    {
      "cell_type": "code",
      "source": [
        "'''punto a\n",
        "\n",
        "Para verificar que una función de densidad conjunta sea válida, debemos asegurarnos de que cumpla con dos condiciones:\n",
        "\n",
        "-La función debe ser no negativa para todos los valores de x e y.\n",
        "-La integral de la función sobre todo el espacio debe ser igual a 1.'''\n",
        "\n",
        "x, y = symbols('x y')\n",
        "f = (2/3)*(x + 2*y)\n",
        "\n",
        "integral = integrate(f, (x, 0, 1), (y, 0, 1))\n",
        "integral"
      ],
      "metadata": {
        "colab": {
          "base_uri": "https://localhost:8080/",
          "height": 37
        },
        "id": "c2w3ZQgqLZcE",
        "outputId": "d222f651-20dd-4c6f-cac7-b5eb4d2ee992"
      },
      "execution_count": 11,
      "outputs": [
        {
          "output_type": "execute_result",
          "data": {
            "text/plain": [
              "1.00000000000000"
            ],
            "text/latex": "$\\displaystyle 1.0$"
          },
          "metadata": {},
          "execution_count": 11
        }
      ]
    },
    {
      "cell_type": "code",
      "source": [
        "'''punto b \n",
        "\n",
        "Para encontrar las distribuciones marginales g(x) y h(y) a partir de la función de densidad conjunta f(x, y), \n",
        "debemos realizar la integración de f(x, y) respecto a la variable que queremos marginalizar.'''\n",
        "\n",
        "x, y = symbols('x y')\n",
        "f = (2/3)*(x + 2*y)\n",
        "\n",
        "g_x = integrate(f, (y, 0, 1))\n",
        "g_x"
      ],
      "metadata": {
        "colab": {
          "base_uri": "https://localhost:8080/",
          "height": 39
        },
        "id": "IbtrO-KBMGqE",
        "outputId": "1d9cb528-e009-4efa-b780-26b92b5a1f0c"
      },
      "execution_count": 13,
      "outputs": [
        {
          "output_type": "execute_result",
          "data": {
            "text/plain": [
              "0.666666666666667*x + 0.666666666666667"
            ],
            "text/latex": "$\\displaystyle 0.666666666666667 x + 0.666666666666667$"
          },
          "metadata": {},
          "execution_count": 13
        }
      ]
    },
    {
      "cell_type": "code",
      "source": [
        "x, y = symbols('x y')\n",
        "f = (2/3)*(x + 2*y)\n",
        "\n",
        "h_y = integrate(f, (x, 0, 1))\n",
        "h_y"
      ],
      "metadata": {
        "colab": {
          "base_uri": "https://localhost:8080/",
          "height": 39
        },
        "id": "hfKZxSTcNw3L",
        "outputId": "6d0e78c8-c0d5-4485-944f-1f9b0c61e9f5"
      },
      "execution_count": 14,
      "outputs": [
        {
          "output_type": "execute_result",
          "data": {
            "text/plain": [
              "1.33333333333333*y + 0.333333333333333"
            ],
            "text/latex": "$\\displaystyle 1.33333333333333 y + 0.333333333333333$"
          },
          "metadata": {},
          "execution_count": 14
        }
      ]
    },
    {
      "cell_type": "code",
      "source": [
        "'''punto c '''\n",
        "\n",
        "x = symbols('x')\n",
        "g_x = (2/3)*x + 1/3\n",
        "\n",
        "E_x = integrate(x * g_x, (x, 0, 1))\n",
        "E_x"
      ],
      "metadata": {
        "colab": {
          "base_uri": "https://localhost:8080/",
          "height": 37
        },
        "id": "fV8eU4p_Mv58",
        "outputId": "0457197e-4669-407a-bafc-7cf2302364b5"
      },
      "execution_count": 27,
      "outputs": [
        {
          "output_type": "execute_result",
          "data": {
            "text/plain": [
              "0.388888888888889"
            ],
            "text/latex": "$\\displaystyle 0.388888888888889$"
          },
          "metadata": {},
          "execution_count": 27
        }
      ]
    },
    {
      "cell_type": "code",
      "source": [
        "'''punto d'''\n",
        "y = symbols('y')\n",
        "h_y = (2/3)*y + 2/3\n",
        "\n",
        "E_y = integrate(y * h_y, (y, 0, 1))\n",
        "E_y"
      ],
      "metadata": {
        "colab": {
          "base_uri": "https://localhost:8080/",
          "height": 37
        },
        "id": "6jCJz2BGN5Sr",
        "outputId": "056af2f0-1232-48d5-ffa1-cd2bfe6e7324"
      },
      "execution_count": 28,
      "outputs": [
        {
          "output_type": "execute_result",
          "data": {
            "text/plain": [
              "0.555555555555556"
            ],
            "text/latex": "$\\displaystyle 0.555555555555556$"
          },
          "metadata": {},
          "execution_count": 28
        }
      ]
    },
    {
      "cell_type": "code",
      "source": [
        "'''punto e'''\n",
        "\n",
        "x, y = symbols('x y')\n",
        "E_x = 10/18\n",
        "E_y = 11/18\n",
        "\n",
        "cov_xy = integrate(x * y * (2/3)*(x + 2*y), (x, 0, 1), (y, 0, 1)) - E_x * E_y\n",
        "cov_xy"
      ],
      "metadata": {
        "colab": {
          "base_uri": "https://localhost:8080/",
          "height": 37
        },
        "id": "HeIfntYOOHeC",
        "outputId": "0a3180a7-f541-4e04-a6eb-756c84f8908a"
      },
      "execution_count": 25,
      "outputs": [
        {
          "output_type": "execute_result",
          "data": {
            "text/plain": [
              "-0.00617283950617292"
            ],
            "text/latex": "$\\displaystyle -0.00617283950617292$"
          },
          "metadata": {},
          "execution_count": 25
        }
      ]
    },
    {
      "cell_type": "code",
      "source": [
        "'''punto f'''\n",
        "x, y = symbols('x y')\n",
        "E_x = 10/18\n",
        "E_y = 11/18\n",
        "\n",
        "cov_xy = integrate((x - E_x) * (y - E_y) * (2/3)*(x + 2*y), (x, 0, 1), (y, 0, 1))\n",
        "cov_xy"
      ],
      "metadata": {
        "colab": {
          "base_uri": "https://localhost:8080/",
          "height": 37
        },
        "id": "GRIF8d20OTyO",
        "outputId": "31b9cbf2-9374-4298-cdba-f5f063e4e7f1"
      },
      "execution_count": 24,
      "outputs": [
        {
          "output_type": "execute_result",
          "data": {
            "text/plain": [
              "-0.00617283950617278"
            ],
            "text/latex": "$\\displaystyle -0.00617283950617278$"
          },
          "metadata": {},
          "execution_count": 24
        }
      ]
    },
    {
      "cell_type": "code",
      "source": [
        "'''punto g\n",
        "\n",
        "Podemos ver que la función de densidad conjunta no puede factorizarse en las distribuciones marginales de x y y. \n",
        "Por lo tanto, podemos concluir que las variables x e y no son independientes.'''\n",
        "x, y = symbols('x y')\n",
        "\n",
        "f = (2/3)*(x + 2*y)\n",
        "g_x = integrate(f, (y, 0, 1))\n",
        "h_y = integrate(f, (x, 0, 1))\n",
        "\n",
        "i = f == g_x * h_y\n",
        "i"
      ],
      "metadata": {
        "colab": {
          "base_uri": "https://localhost:8080/"
        },
        "id": "O13n3Lq1OneR",
        "outputId": "55550c80-8122-4be9-ce9d-4162739c9ea1"
      },
      "execution_count": 29,
      "outputs": [
        {
          "output_type": "execute_result",
          "data": {
            "text/plain": [
              "False"
            ]
          },
          "metadata": {},
          "execution_count": 29
        }
      ]
    }
  ]
}