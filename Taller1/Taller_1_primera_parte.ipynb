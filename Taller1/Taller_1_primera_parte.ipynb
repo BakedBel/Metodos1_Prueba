{
  "nbformat": 4,
  "nbformat_minor": 0,
  "metadata": {
    "colab": {
      "provenance": []
    },
    "kernelspec": {
      "name": "python3",
      "display_name": "Python 3"
    },
    "language_info": {
      "name": "python"
    }
  },
  "cells": [
    {
      "cell_type": "code",
      "execution_count": null,
      "metadata": {
        "colab": {
          "base_uri": "https://localhost:8080/"
        },
        "id": "42e3jpZk6HXw",
        "outputId": "ab442910-d338-49b6-8e76-e1b8bf65883a"
      },
      "outputs": [
        {
          "output_type": "stream",
          "name": "stdout",
          "text": [
            "0\n",
            "1\n",
            "2\n",
            "6\n",
            "24\n",
            "120\n",
            "720\n",
            "5040\n",
            "40320\n",
            "362880\n",
            "3628800\n",
            "39916800\n",
            "479001600\n",
            "6227020800\n",
            "87178291200\n",
            "1307674368000\n",
            "20922789888000\n",
            "355687428096000\n",
            "6402373705728000\n"
          ]
        }
      ],
      "source": [
        "def factoriales(N):\n",
        "    i = N-1 \n",
        "    if N == 1:\n",
        "        return N\n",
        "    while i > 0:\n",
        "        N = N*i\n",
        "        i -= 1 \n",
        "    return N\n",
        "\n",
        "def prueba():\n",
        "  for i in range(0,19):\n",
        "    print(factoriales(i))\n",
        "\n",
        "prueba()"
      ]
    },
    {
      "cell_type": "code",
      "source": [
        "def fibonnaci (L):\n",
        "  N = 0 \n",
        "  if L <=1:\n",
        "    return L\n",
        "  for i in range(0,L+1):\n",
        "    K = L-1\n",
        "    M = L-2\n",
        "    N = K+M\n",
        "  return N\n",
        "\n",
        "fibonnaci (3)\n"
      ],
      "metadata": {
        "colab": {
          "base_uri": "https://localhost:8080/"
        },
        "id": "v87xjE68COco",
        "outputId": "12bcc520-6e6b-4147-c3c3-a77b3a89008d"
      },
      "execution_count": null,
      "outputs": [
        {
          "output_type": "execute_result",
          "data": {
            "text/plain": [
              "3"
            ]
          },
          "metadata": {},
          "execution_count": 22
        }
      ]
    },
    {
      "cell_type": "code",
      "source": [],
      "metadata": {
        "id": "Ne5QTTkr6Xjz"
      },
      "execution_count": null,
      "outputs": []
    }
  ]
}