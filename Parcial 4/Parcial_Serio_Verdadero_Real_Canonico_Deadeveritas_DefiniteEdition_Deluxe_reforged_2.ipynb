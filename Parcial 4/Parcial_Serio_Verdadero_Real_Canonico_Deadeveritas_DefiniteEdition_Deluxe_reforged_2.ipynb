{
  "nbformat": 4,
  "nbformat_minor": 0,
  "metadata": {
    "colab": {
      "provenance": []
    },
    "kernelspec": {
      "name": "python3",
      "display_name": "Python 3"
    },
    "language_info": {
      "name": "python"
    }
  },
  "cells": [
    {
      "cell_type": "code",
      "execution_count": 69,
      "metadata": {
        "id": "w4NKXgsZ2gBW"
      },
      "outputs": [],
      "source": [
        "import pandas as pd\n",
        "import numpy as np\n",
        "from scipy.stats import chi2\n",
        "import matplotlib.pyplot as plt\n",
        "import scipy.optimize as spo\n",
        "from tqdm import tqdm"
      ]
    },
    {
      "cell_type": "markdown",
      "source": [
        "#Parte 1"
      ],
      "metadata": {
        "id": "1ggrEE9l24Ad"
      }
    },
    {
      "cell_type": "markdown",
      "source": [
        "#1.A"
      ],
      "metadata": {
        "id": "Xs9_QnEi9C1e"
      }
    },
    {
      "cell_type": "code",
      "source": [
        "from google.colab import files\n",
        "uploaded = files.upload()"
      ],
      "metadata": {
        "colab": {
          "base_uri": "https://localhost:8080/",
          "height": 73
        },
        "id": "-gBrp65c2_QG",
        "outputId": "c190c9b4-5d40-4f3b-a0dc-b230f822e31c"
      },
      "execution_count": 99,
      "outputs": [
        {
          "output_type": "display_data",
          "data": {
            "text/plain": [
              "<IPython.core.display.HTML object>"
            ],
            "text/html": [
              "\n",
              "     <input type=\"file\" id=\"files-7be82ca9-5098-48af-bbd2-024b059ccc4f\" name=\"files[]\" multiple disabled\n",
              "        style=\"border:none\" />\n",
              "     <output id=\"result-7be82ca9-5098-48af-bbd2-024b059ccc4f\">\n",
              "      Upload widget is only available when the cell has been executed in the\n",
              "      current browser session. Please rerun this cell to enable.\n",
              "      </output>\n",
              "      <script>// Copyright 2017 Google LLC\n",
              "//\n",
              "// Licensed under the Apache License, Version 2.0 (the \"License\");\n",
              "// you may not use this file except in compliance with the License.\n",
              "// You may obtain a copy of the License at\n",
              "//\n",
              "//      http://www.apache.org/licenses/LICENSE-2.0\n",
              "//\n",
              "// Unless required by applicable law or agreed to in writing, software\n",
              "// distributed under the License is distributed on an \"AS IS\" BASIS,\n",
              "// WITHOUT WARRANTIES OR CONDITIONS OF ANY KIND, either express or implied.\n",
              "// See the License for the specific language governing permissions and\n",
              "// limitations under the License.\n",
              "\n",
              "/**\n",
              " * @fileoverview Helpers for google.colab Python module.\n",
              " */\n",
              "(function(scope) {\n",
              "function span(text, styleAttributes = {}) {\n",
              "  const element = document.createElement('span');\n",
              "  element.textContent = text;\n",
              "  for (const key of Object.keys(styleAttributes)) {\n",
              "    element.style[key] = styleAttributes[key];\n",
              "  }\n",
              "  return element;\n",
              "}\n",
              "\n",
              "// Max number of bytes which will be uploaded at a time.\n",
              "const MAX_PAYLOAD_SIZE = 100 * 1024;\n",
              "\n",
              "function _uploadFiles(inputId, outputId) {\n",
              "  const steps = uploadFilesStep(inputId, outputId);\n",
              "  const outputElement = document.getElementById(outputId);\n",
              "  // Cache steps on the outputElement to make it available for the next call\n",
              "  // to uploadFilesContinue from Python.\n",
              "  outputElement.steps = steps;\n",
              "\n",
              "  return _uploadFilesContinue(outputId);\n",
              "}\n",
              "\n",
              "// This is roughly an async generator (not supported in the browser yet),\n",
              "// where there are multiple asynchronous steps and the Python side is going\n",
              "// to poll for completion of each step.\n",
              "// This uses a Promise to block the python side on completion of each step,\n",
              "// then passes the result of the previous step as the input to the next step.\n",
              "function _uploadFilesContinue(outputId) {\n",
              "  const outputElement = document.getElementById(outputId);\n",
              "  const steps = outputElement.steps;\n",
              "\n",
              "  const next = steps.next(outputElement.lastPromiseValue);\n",
              "  return Promise.resolve(next.value.promise).then((value) => {\n",
              "    // Cache the last promise value to make it available to the next\n",
              "    // step of the generator.\n",
              "    outputElement.lastPromiseValue = value;\n",
              "    return next.value.response;\n",
              "  });\n",
              "}\n",
              "\n",
              "/**\n",
              " * Generator function which is called between each async step of the upload\n",
              " * process.\n",
              " * @param {string} inputId Element ID of the input file picker element.\n",
              " * @param {string} outputId Element ID of the output display.\n",
              " * @return {!Iterable<!Object>} Iterable of next steps.\n",
              " */\n",
              "function* uploadFilesStep(inputId, outputId) {\n",
              "  const inputElement = document.getElementById(inputId);\n",
              "  inputElement.disabled = false;\n",
              "\n",
              "  const outputElement = document.getElementById(outputId);\n",
              "  outputElement.innerHTML = '';\n",
              "\n",
              "  const pickedPromise = new Promise((resolve) => {\n",
              "    inputElement.addEventListener('change', (e) => {\n",
              "      resolve(e.target.files);\n",
              "    });\n",
              "  });\n",
              "\n",
              "  const cancel = document.createElement('button');\n",
              "  inputElement.parentElement.appendChild(cancel);\n",
              "  cancel.textContent = 'Cancel upload';\n",
              "  const cancelPromise = new Promise((resolve) => {\n",
              "    cancel.onclick = () => {\n",
              "      resolve(null);\n",
              "    };\n",
              "  });\n",
              "\n",
              "  // Wait for the user to pick the files.\n",
              "  const files = yield {\n",
              "    promise: Promise.race([pickedPromise, cancelPromise]),\n",
              "    response: {\n",
              "      action: 'starting',\n",
              "    }\n",
              "  };\n",
              "\n",
              "  cancel.remove();\n",
              "\n",
              "  // Disable the input element since further picks are not allowed.\n",
              "  inputElement.disabled = true;\n",
              "\n",
              "  if (!files) {\n",
              "    return {\n",
              "      response: {\n",
              "        action: 'complete',\n",
              "      }\n",
              "    };\n",
              "  }\n",
              "\n",
              "  for (const file of files) {\n",
              "    const li = document.createElement('li');\n",
              "    li.append(span(file.name, {fontWeight: 'bold'}));\n",
              "    li.append(span(\n",
              "        `(${file.type || 'n/a'}) - ${file.size} bytes, ` +\n",
              "        `last modified: ${\n",
              "            file.lastModifiedDate ? file.lastModifiedDate.toLocaleDateString() :\n",
              "                                    'n/a'} - `));\n",
              "    const percent = span('0% done');\n",
              "    li.appendChild(percent);\n",
              "\n",
              "    outputElement.appendChild(li);\n",
              "\n",
              "    const fileDataPromise = new Promise((resolve) => {\n",
              "      const reader = new FileReader();\n",
              "      reader.onload = (e) => {\n",
              "        resolve(e.target.result);\n",
              "      };\n",
              "      reader.readAsArrayBuffer(file);\n",
              "    });\n",
              "    // Wait for the data to be ready.\n",
              "    let fileData = yield {\n",
              "      promise: fileDataPromise,\n",
              "      response: {\n",
              "        action: 'continue',\n",
              "      }\n",
              "    };\n",
              "\n",
              "    // Use a chunked sending to avoid message size limits. See b/62115660.\n",
              "    let position = 0;\n",
              "    do {\n",
              "      const length = Math.min(fileData.byteLength - position, MAX_PAYLOAD_SIZE);\n",
              "      const chunk = new Uint8Array(fileData, position, length);\n",
              "      position += length;\n",
              "\n",
              "      const base64 = btoa(String.fromCharCode.apply(null, chunk));\n",
              "      yield {\n",
              "        response: {\n",
              "          action: 'append',\n",
              "          file: file.name,\n",
              "          data: base64,\n",
              "        },\n",
              "      };\n",
              "\n",
              "      let percentDone = fileData.byteLength === 0 ?\n",
              "          100 :\n",
              "          Math.round((position / fileData.byteLength) * 100);\n",
              "      percent.textContent = `${percentDone}% done`;\n",
              "\n",
              "    } while (position < fileData.byteLength);\n",
              "  }\n",
              "\n",
              "  // All done.\n",
              "  yield {\n",
              "    response: {\n",
              "      action: 'complete',\n",
              "    }\n",
              "  };\n",
              "}\n",
              "\n",
              "scope.google = scope.google || {};\n",
              "scope.google.colab = scope.google.colab || {};\n",
              "scope.google.colab._files = {\n",
              "  _uploadFiles,\n",
              "  _uploadFilesContinue,\n",
              "};\n",
              "})(self);\n",
              "</script> "
            ]
          },
          "metadata": {}
        },
        {
          "output_type": "stream",
          "name": "stdout",
          "text": [
            "Saving DataRotacion.csv to DataRotacion (1).csv\n"
          ]
        }
      ]
    },
    {
      "cell_type": "code",
      "source": [
        "import io\n",
        "df2 = pd.read_csv(io.BytesIO(uploaded['DataRotacion.csv']))\n",
        "\n",
        "df2"
      ],
      "metadata": {
        "colab": {
          "base_uri": "https://localhost:8080/",
          "height": 1000
        },
        "id": "GHJd_NII8uAH",
        "outputId": "1d912bda-c3d4-4f99-9a53-2de4294f330c"
      },
      "execution_count": 100,
      "outputs": [
        {
          "output_type": "execute_result",
          "data": {
            "text/plain": [
              "        h  angle       y  sigmay\n",
              "0    10.0   10.0  0.0017  0.0015\n",
              "1    20.0   10.0  0.0016  0.0015\n",
              "2    30.0   10.0  0.0027  0.0015\n",
              "3    40.0   10.0  0.0055  0.0015\n",
              "4    50.0   10.0  0.0083  0.0015\n",
              "5    60.0   10.0  0.0085  0.0015\n",
              "6    70.0   10.0  0.0096  0.0015\n",
              "7    80.0   10.0  0.0144  0.0015\n",
              "8    90.0   10.0  0.0200  0.0015\n",
              "9   100.0   10.0  0.0208  0.0015\n",
              "10   10.0   20.0  0.0007  0.0015\n",
              "11   20.0   20.0  0.0016  0.0015\n",
              "12   30.0   20.0  0.0030  0.0015\n",
              "13   40.0   20.0  0.0043  0.0015\n",
              "14   50.0   20.0  0.0078  0.0015\n",
              "15   60.0   20.0  0.0092  0.0015\n",
              "16   70.0   20.0  0.0106  0.0015\n",
              "17   80.0   20.0  0.0142  0.0015\n",
              "18   90.0   20.0  0.0181  0.0015\n",
              "19  100.0   20.0  0.0210  0.0015\n",
              "20   10.0   30.0  0.0013  0.0015\n",
              "21   20.0   30.0  0.0017  0.0015\n",
              "22   30.0   30.0  0.0038  0.0015\n",
              "23   40.0   30.0  0.0059  0.0015\n",
              "24   50.0   30.0  0.0067  0.0015\n",
              "25   60.0   30.0  0.0094  0.0015\n",
              "26   70.0   30.0  0.0122  0.0015\n",
              "27   80.0   30.0  0.0132  0.0015\n",
              "28   90.0   30.0  0.0151  0.0015\n",
              "29  100.0   30.0  0.0186  0.0015\n",
              "30   10.0   40.0  0.0011  0.0015\n",
              "31   20.0   40.0  0.0013  0.0015\n",
              "32   30.0   40.0  0.0040  0.0015\n",
              "33   40.0   40.0  0.0051  0.0015\n",
              "34   50.0   40.0  0.0067  0.0015\n",
              "35   60.0   40.0  0.0068  0.0015\n",
              "36   70.0   40.0  0.0088  0.0015\n",
              "37   80.0   40.0  0.0126  0.0015\n",
              "38   90.0   40.0  0.0149  0.0015\n",
              "39  100.0   40.0  0.0173  0.0015\n",
              "40   10.0   50.0  0.0006  0.0015\n",
              "41   20.0   50.0  0.0006  0.0015\n",
              "42   30.0   50.0  0.0030  0.0015\n",
              "43   40.0   50.0  0.0032  0.0015\n",
              "44   50.0   50.0  0.0051  0.0015\n",
              "45   60.0   50.0  0.0068  0.0015\n",
              "46   70.0   50.0  0.0062  0.0015\n",
              "47   80.0   50.0  0.0094  0.0015\n",
              "48   90.0   50.0  0.0121  0.0015\n",
              "49  100.0   50.0  0.0126  0.0015\n",
              "50   10.0   60.0  0.0001  0.0015\n",
              "51   20.0   60.0 -0.0000  0.0015\n",
              "52   30.0   60.0  0.0016  0.0015\n",
              "53   40.0   60.0  0.0030  0.0015\n",
              "54   50.0   60.0  0.0047  0.0015\n",
              "55   60.0   60.0  0.0053  0.0015\n",
              "56   70.0   60.0  0.0068  0.0015\n",
              "57   80.0   60.0  0.0079  0.0015\n",
              "58   90.0   60.0  0.0092  0.0015\n",
              "59  100.0   60.0  0.0112  0.0015"
            ],
            "text/html": [
              "\n",
              "  <div id=\"df-5674c742-f9aa-4b0e-929e-2bf159666262\">\n",
              "    <div class=\"colab-df-container\">\n",
              "      <div>\n",
              "<style scoped>\n",
              "    .dataframe tbody tr th:only-of-type {\n",
              "        vertical-align: middle;\n",
              "    }\n",
              "\n",
              "    .dataframe tbody tr th {\n",
              "        vertical-align: top;\n",
              "    }\n",
              "\n",
              "    .dataframe thead th {\n",
              "        text-align: right;\n",
              "    }\n",
              "</style>\n",
              "<table border=\"1\" class=\"dataframe\">\n",
              "  <thead>\n",
              "    <tr style=\"text-align: right;\">\n",
              "      <th></th>\n",
              "      <th>h</th>\n",
              "      <th>angle</th>\n",
              "      <th>y</th>\n",
              "      <th>sigmay</th>\n",
              "    </tr>\n",
              "  </thead>\n",
              "  <tbody>\n",
              "    <tr>\n",
              "      <th>0</th>\n",
              "      <td>10.0</td>\n",
              "      <td>10.0</td>\n",
              "      <td>0.0017</td>\n",
              "      <td>0.0015</td>\n",
              "    </tr>\n",
              "    <tr>\n",
              "      <th>1</th>\n",
              "      <td>20.0</td>\n",
              "      <td>10.0</td>\n",
              "      <td>0.0016</td>\n",
              "      <td>0.0015</td>\n",
              "    </tr>\n",
              "    <tr>\n",
              "      <th>2</th>\n",
              "      <td>30.0</td>\n",
              "      <td>10.0</td>\n",
              "      <td>0.0027</td>\n",
              "      <td>0.0015</td>\n",
              "    </tr>\n",
              "    <tr>\n",
              "      <th>3</th>\n",
              "      <td>40.0</td>\n",
              "      <td>10.0</td>\n",
              "      <td>0.0055</td>\n",
              "      <td>0.0015</td>\n",
              "    </tr>\n",
              "    <tr>\n",
              "      <th>4</th>\n",
              "      <td>50.0</td>\n",
              "      <td>10.0</td>\n",
              "      <td>0.0083</td>\n",
              "      <td>0.0015</td>\n",
              "    </tr>\n",
              "    <tr>\n",
              "      <th>5</th>\n",
              "      <td>60.0</td>\n",
              "      <td>10.0</td>\n",
              "      <td>0.0085</td>\n",
              "      <td>0.0015</td>\n",
              "    </tr>\n",
              "    <tr>\n",
              "      <th>6</th>\n",
              "      <td>70.0</td>\n",
              "      <td>10.0</td>\n",
              "      <td>0.0096</td>\n",
              "      <td>0.0015</td>\n",
              "    </tr>\n",
              "    <tr>\n",
              "      <th>7</th>\n",
              "      <td>80.0</td>\n",
              "      <td>10.0</td>\n",
              "      <td>0.0144</td>\n",
              "      <td>0.0015</td>\n",
              "    </tr>\n",
              "    <tr>\n",
              "      <th>8</th>\n",
              "      <td>90.0</td>\n",
              "      <td>10.0</td>\n",
              "      <td>0.0200</td>\n",
              "      <td>0.0015</td>\n",
              "    </tr>\n",
              "    <tr>\n",
              "      <th>9</th>\n",
              "      <td>100.0</td>\n",
              "      <td>10.0</td>\n",
              "      <td>0.0208</td>\n",
              "      <td>0.0015</td>\n",
              "    </tr>\n",
              "    <tr>\n",
              "      <th>10</th>\n",
              "      <td>10.0</td>\n",
              "      <td>20.0</td>\n",
              "      <td>0.0007</td>\n",
              "      <td>0.0015</td>\n",
              "    </tr>\n",
              "    <tr>\n",
              "      <th>11</th>\n",
              "      <td>20.0</td>\n",
              "      <td>20.0</td>\n",
              "      <td>0.0016</td>\n",
              "      <td>0.0015</td>\n",
              "    </tr>\n",
              "    <tr>\n",
              "      <th>12</th>\n",
              "      <td>30.0</td>\n",
              "      <td>20.0</td>\n",
              "      <td>0.0030</td>\n",
              "      <td>0.0015</td>\n",
              "    </tr>\n",
              "    <tr>\n",
              "      <th>13</th>\n",
              "      <td>40.0</td>\n",
              "      <td>20.0</td>\n",
              "      <td>0.0043</td>\n",
              "      <td>0.0015</td>\n",
              "    </tr>\n",
              "    <tr>\n",
              "      <th>14</th>\n",
              "      <td>50.0</td>\n",
              "      <td>20.0</td>\n",
              "      <td>0.0078</td>\n",
              "      <td>0.0015</td>\n",
              "    </tr>\n",
              "    <tr>\n",
              "      <th>15</th>\n",
              "      <td>60.0</td>\n",
              "      <td>20.0</td>\n",
              "      <td>0.0092</td>\n",
              "      <td>0.0015</td>\n",
              "    </tr>\n",
              "    <tr>\n",
              "      <th>16</th>\n",
              "      <td>70.0</td>\n",
              "      <td>20.0</td>\n",
              "      <td>0.0106</td>\n",
              "      <td>0.0015</td>\n",
              "    </tr>\n",
              "    <tr>\n",
              "      <th>17</th>\n",
              "      <td>80.0</td>\n",
              "      <td>20.0</td>\n",
              "      <td>0.0142</td>\n",
              "      <td>0.0015</td>\n",
              "    </tr>\n",
              "    <tr>\n",
              "      <th>18</th>\n",
              "      <td>90.0</td>\n",
              "      <td>20.0</td>\n",
              "      <td>0.0181</td>\n",
              "      <td>0.0015</td>\n",
              "    </tr>\n",
              "    <tr>\n",
              "      <th>19</th>\n",
              "      <td>100.0</td>\n",
              "      <td>20.0</td>\n",
              "      <td>0.0210</td>\n",
              "      <td>0.0015</td>\n",
              "    </tr>\n",
              "    <tr>\n",
              "      <th>20</th>\n",
              "      <td>10.0</td>\n",
              "      <td>30.0</td>\n",
              "      <td>0.0013</td>\n",
              "      <td>0.0015</td>\n",
              "    </tr>\n",
              "    <tr>\n",
              "      <th>21</th>\n",
              "      <td>20.0</td>\n",
              "      <td>30.0</td>\n",
              "      <td>0.0017</td>\n",
              "      <td>0.0015</td>\n",
              "    </tr>\n",
              "    <tr>\n",
              "      <th>22</th>\n",
              "      <td>30.0</td>\n",
              "      <td>30.0</td>\n",
              "      <td>0.0038</td>\n",
              "      <td>0.0015</td>\n",
              "    </tr>\n",
              "    <tr>\n",
              "      <th>23</th>\n",
              "      <td>40.0</td>\n",
              "      <td>30.0</td>\n",
              "      <td>0.0059</td>\n",
              "      <td>0.0015</td>\n",
              "    </tr>\n",
              "    <tr>\n",
              "      <th>24</th>\n",
              "      <td>50.0</td>\n",
              "      <td>30.0</td>\n",
              "      <td>0.0067</td>\n",
              "      <td>0.0015</td>\n",
              "    </tr>\n",
              "    <tr>\n",
              "      <th>25</th>\n",
              "      <td>60.0</td>\n",
              "      <td>30.0</td>\n",
              "      <td>0.0094</td>\n",
              "      <td>0.0015</td>\n",
              "    </tr>\n",
              "    <tr>\n",
              "      <th>26</th>\n",
              "      <td>70.0</td>\n",
              "      <td>30.0</td>\n",
              "      <td>0.0122</td>\n",
              "      <td>0.0015</td>\n",
              "    </tr>\n",
              "    <tr>\n",
              "      <th>27</th>\n",
              "      <td>80.0</td>\n",
              "      <td>30.0</td>\n",
              "      <td>0.0132</td>\n",
              "      <td>0.0015</td>\n",
              "    </tr>\n",
              "    <tr>\n",
              "      <th>28</th>\n",
              "      <td>90.0</td>\n",
              "      <td>30.0</td>\n",
              "      <td>0.0151</td>\n",
              "      <td>0.0015</td>\n",
              "    </tr>\n",
              "    <tr>\n",
              "      <th>29</th>\n",
              "      <td>100.0</td>\n",
              "      <td>30.0</td>\n",
              "      <td>0.0186</td>\n",
              "      <td>0.0015</td>\n",
              "    </tr>\n",
              "    <tr>\n",
              "      <th>30</th>\n",
              "      <td>10.0</td>\n",
              "      <td>40.0</td>\n",
              "      <td>0.0011</td>\n",
              "      <td>0.0015</td>\n",
              "    </tr>\n",
              "    <tr>\n",
              "      <th>31</th>\n",
              "      <td>20.0</td>\n",
              "      <td>40.0</td>\n",
              "      <td>0.0013</td>\n",
              "      <td>0.0015</td>\n",
              "    </tr>\n",
              "    <tr>\n",
              "      <th>32</th>\n",
              "      <td>30.0</td>\n",
              "      <td>40.0</td>\n",
              "      <td>0.0040</td>\n",
              "      <td>0.0015</td>\n",
              "    </tr>\n",
              "    <tr>\n",
              "      <th>33</th>\n",
              "      <td>40.0</td>\n",
              "      <td>40.0</td>\n",
              "      <td>0.0051</td>\n",
              "      <td>0.0015</td>\n",
              "    </tr>\n",
              "    <tr>\n",
              "      <th>34</th>\n",
              "      <td>50.0</td>\n",
              "      <td>40.0</td>\n",
              "      <td>0.0067</td>\n",
              "      <td>0.0015</td>\n",
              "    </tr>\n",
              "    <tr>\n",
              "      <th>35</th>\n",
              "      <td>60.0</td>\n",
              "      <td>40.0</td>\n",
              "      <td>0.0068</td>\n",
              "      <td>0.0015</td>\n",
              "    </tr>\n",
              "    <tr>\n",
              "      <th>36</th>\n",
              "      <td>70.0</td>\n",
              "      <td>40.0</td>\n",
              "      <td>0.0088</td>\n",
              "      <td>0.0015</td>\n",
              "    </tr>\n",
              "    <tr>\n",
              "      <th>37</th>\n",
              "      <td>80.0</td>\n",
              "      <td>40.0</td>\n",
              "      <td>0.0126</td>\n",
              "      <td>0.0015</td>\n",
              "    </tr>\n",
              "    <tr>\n",
              "      <th>38</th>\n",
              "      <td>90.0</td>\n",
              "      <td>40.0</td>\n",
              "      <td>0.0149</td>\n",
              "      <td>0.0015</td>\n",
              "    </tr>\n",
              "    <tr>\n",
              "      <th>39</th>\n",
              "      <td>100.0</td>\n",
              "      <td>40.0</td>\n",
              "      <td>0.0173</td>\n",
              "      <td>0.0015</td>\n",
              "    </tr>\n",
              "    <tr>\n",
              "      <th>40</th>\n",
              "      <td>10.0</td>\n",
              "      <td>50.0</td>\n",
              "      <td>0.0006</td>\n",
              "      <td>0.0015</td>\n",
              "    </tr>\n",
              "    <tr>\n",
              "      <th>41</th>\n",
              "      <td>20.0</td>\n",
              "      <td>50.0</td>\n",
              "      <td>0.0006</td>\n",
              "      <td>0.0015</td>\n",
              "    </tr>\n",
              "    <tr>\n",
              "      <th>42</th>\n",
              "      <td>30.0</td>\n",
              "      <td>50.0</td>\n",
              "      <td>0.0030</td>\n",
              "      <td>0.0015</td>\n",
              "    </tr>\n",
              "    <tr>\n",
              "      <th>43</th>\n",
              "      <td>40.0</td>\n",
              "      <td>50.0</td>\n",
              "      <td>0.0032</td>\n",
              "      <td>0.0015</td>\n",
              "    </tr>\n",
              "    <tr>\n",
              "      <th>44</th>\n",
              "      <td>50.0</td>\n",
              "      <td>50.0</td>\n",
              "      <td>0.0051</td>\n",
              "      <td>0.0015</td>\n",
              "    </tr>\n",
              "    <tr>\n",
              "      <th>45</th>\n",
              "      <td>60.0</td>\n",
              "      <td>50.0</td>\n",
              "      <td>0.0068</td>\n",
              "      <td>0.0015</td>\n",
              "    </tr>\n",
              "    <tr>\n",
              "      <th>46</th>\n",
              "      <td>70.0</td>\n",
              "      <td>50.0</td>\n",
              "      <td>0.0062</td>\n",
              "      <td>0.0015</td>\n",
              "    </tr>\n",
              "    <tr>\n",
              "      <th>47</th>\n",
              "      <td>80.0</td>\n",
              "      <td>50.0</td>\n",
              "      <td>0.0094</td>\n",
              "      <td>0.0015</td>\n",
              "    </tr>\n",
              "    <tr>\n",
              "      <th>48</th>\n",
              "      <td>90.0</td>\n",
              "      <td>50.0</td>\n",
              "      <td>0.0121</td>\n",
              "      <td>0.0015</td>\n",
              "    </tr>\n",
              "    <tr>\n",
              "      <th>49</th>\n",
              "      <td>100.0</td>\n",
              "      <td>50.0</td>\n",
              "      <td>0.0126</td>\n",
              "      <td>0.0015</td>\n",
              "    </tr>\n",
              "    <tr>\n",
              "      <th>50</th>\n",
              "      <td>10.0</td>\n",
              "      <td>60.0</td>\n",
              "      <td>0.0001</td>\n",
              "      <td>0.0015</td>\n",
              "    </tr>\n",
              "    <tr>\n",
              "      <th>51</th>\n",
              "      <td>20.0</td>\n",
              "      <td>60.0</td>\n",
              "      <td>-0.0000</td>\n",
              "      <td>0.0015</td>\n",
              "    </tr>\n",
              "    <tr>\n",
              "      <th>52</th>\n",
              "      <td>30.0</td>\n",
              "      <td>60.0</td>\n",
              "      <td>0.0016</td>\n",
              "      <td>0.0015</td>\n",
              "    </tr>\n",
              "    <tr>\n",
              "      <th>53</th>\n",
              "      <td>40.0</td>\n",
              "      <td>60.0</td>\n",
              "      <td>0.0030</td>\n",
              "      <td>0.0015</td>\n",
              "    </tr>\n",
              "    <tr>\n",
              "      <th>54</th>\n",
              "      <td>50.0</td>\n",
              "      <td>60.0</td>\n",
              "      <td>0.0047</td>\n",
              "      <td>0.0015</td>\n",
              "    </tr>\n",
              "    <tr>\n",
              "      <th>55</th>\n",
              "      <td>60.0</td>\n",
              "      <td>60.0</td>\n",
              "      <td>0.0053</td>\n",
              "      <td>0.0015</td>\n",
              "    </tr>\n",
              "    <tr>\n",
              "      <th>56</th>\n",
              "      <td>70.0</td>\n",
              "      <td>60.0</td>\n",
              "      <td>0.0068</td>\n",
              "      <td>0.0015</td>\n",
              "    </tr>\n",
              "    <tr>\n",
              "      <th>57</th>\n",
              "      <td>80.0</td>\n",
              "      <td>60.0</td>\n",
              "      <td>0.0079</td>\n",
              "      <td>0.0015</td>\n",
              "    </tr>\n",
              "    <tr>\n",
              "      <th>58</th>\n",
              "      <td>90.0</td>\n",
              "      <td>60.0</td>\n",
              "      <td>0.0092</td>\n",
              "      <td>0.0015</td>\n",
              "    </tr>\n",
              "    <tr>\n",
              "      <th>59</th>\n",
              "      <td>100.0</td>\n",
              "      <td>60.0</td>\n",
              "      <td>0.0112</td>\n",
              "      <td>0.0015</td>\n",
              "    </tr>\n",
              "  </tbody>\n",
              "</table>\n",
              "</div>\n",
              "      <button class=\"colab-df-convert\" onclick=\"convertToInteractive('df-5674c742-f9aa-4b0e-929e-2bf159666262')\"\n",
              "              title=\"Convert this dataframe to an interactive table.\"\n",
              "              style=\"display:none;\">\n",
              "        \n",
              "  <svg xmlns=\"http://www.w3.org/2000/svg\" height=\"24px\"viewBox=\"0 0 24 24\"\n",
              "       width=\"24px\">\n",
              "    <path d=\"M0 0h24v24H0V0z\" fill=\"none\"/>\n",
              "    <path d=\"M18.56 5.44l.94 2.06.94-2.06 2.06-.94-2.06-.94-.94-2.06-.94 2.06-2.06.94zm-11 1L8.5 8.5l.94-2.06 2.06-.94-2.06-.94L8.5 2.5l-.94 2.06-2.06.94zm10 10l.94 2.06.94-2.06 2.06-.94-2.06-.94-.94-2.06-.94 2.06-2.06.94z\"/><path d=\"M17.41 7.96l-1.37-1.37c-.4-.4-.92-.59-1.43-.59-.52 0-1.04.2-1.43.59L10.3 9.45l-7.72 7.72c-.78.78-.78 2.05 0 2.83L4 21.41c.39.39.9.59 1.41.59.51 0 1.02-.2 1.41-.59l7.78-7.78 2.81-2.81c.8-.78.8-2.07 0-2.86zM5.41 20L4 18.59l7.72-7.72 1.47 1.35L5.41 20z\"/>\n",
              "  </svg>\n",
              "      </button>\n",
              "      \n",
              "  <style>\n",
              "    .colab-df-container {\n",
              "      display:flex;\n",
              "      flex-wrap:wrap;\n",
              "      gap: 12px;\n",
              "    }\n",
              "\n",
              "    .colab-df-convert {\n",
              "      background-color: #E8F0FE;\n",
              "      border: none;\n",
              "      border-radius: 50%;\n",
              "      cursor: pointer;\n",
              "      display: none;\n",
              "      fill: #1967D2;\n",
              "      height: 32px;\n",
              "      padding: 0 0 0 0;\n",
              "      width: 32px;\n",
              "    }\n",
              "\n",
              "    .colab-df-convert:hover {\n",
              "      background-color: #E2EBFA;\n",
              "      box-shadow: 0px 1px 2px rgba(60, 64, 67, 0.3), 0px 1px 3px 1px rgba(60, 64, 67, 0.15);\n",
              "      fill: #174EA6;\n",
              "    }\n",
              "\n",
              "    [theme=dark] .colab-df-convert {\n",
              "      background-color: #3B4455;\n",
              "      fill: #D2E3FC;\n",
              "    }\n",
              "\n",
              "    [theme=dark] .colab-df-convert:hover {\n",
              "      background-color: #434B5C;\n",
              "      box-shadow: 0px 1px 3px 1px rgba(0, 0, 0, 0.15);\n",
              "      filter: drop-shadow(0px 1px 2px rgba(0, 0, 0, 0.3));\n",
              "      fill: #FFFFFF;\n",
              "    }\n",
              "  </style>\n",
              "\n",
              "      <script>\n",
              "        const buttonEl =\n",
              "          document.querySelector('#df-5674c742-f9aa-4b0e-929e-2bf159666262 button.colab-df-convert');\n",
              "        buttonEl.style.display =\n",
              "          google.colab.kernel.accessAllowed ? 'block' : 'none';\n",
              "\n",
              "        async function convertToInteractive(key) {\n",
              "          const element = document.querySelector('#df-5674c742-f9aa-4b0e-929e-2bf159666262');\n",
              "          const dataTable =\n",
              "            await google.colab.kernel.invokeFunction('convertToInteractive',\n",
              "                                                     [key], {});\n",
              "          if (!dataTable) return;\n",
              "\n",
              "          const docLinkHtml = 'Like what you see? Visit the ' +\n",
              "            '<a target=\"_blank\" href=https://colab.research.google.com/notebooks/data_table.ipynb>data table notebook</a>'\n",
              "            + ' to learn more about interactive tables.';\n",
              "          element.innerHTML = '';\n",
              "          dataTable['output_type'] = 'display_data';\n",
              "          await google.colab.output.renderOutput(dataTable, element);\n",
              "          const docLink = document.createElement('div');\n",
              "          docLink.innerHTML = docLinkHtml;\n",
              "          element.appendChild(docLink);\n",
              "        }\n",
              "      </script>\n",
              "    </div>\n",
              "  </div>\n",
              "  "
            ]
          },
          "metadata": {},
          "execution_count": 100
        }
      ]
    },
    {
      "cell_type": "code",
      "source": [
        "datos = np.array(df2,np.float64)"
      ],
      "metadata": {
        "id": "hFNgiMAn800h"
      },
      "execution_count": 102,
      "outputs": []
    },
    {
      "cell_type": "markdown",
      "source": [
        "#1.b"
      ],
      "metadata": {
        "id": "3fMcACgZ9IzH"
      }
    },
    {
      "cell_type": "code",
      "source": [
        "def Filtro_lambda(datos,Ld):\n",
        "  x,y = np.shape(datos)\n",
        "  sol2 = []\n",
        "  for i in range(x):\n",
        "    if datos[i][1] == Ld:\n",
        "      sol2.append(datos[i])\n",
        "  r = np.asarray(sol2)\n",
        "  return r\n",
        "\n",
        "b = Filtro_lambda(datos,3.00e+01)\n",
        "b"
      ],
      "metadata": {
        "colab": {
          "base_uri": "https://localhost:8080/"
        },
        "id": "fPbKLQ5L816K",
        "outputId": "da28d09f-d91f-48d7-deff-af9c18a428a3"
      },
      "execution_count": 101,
      "outputs": [
        {
          "output_type": "execute_result",
          "data": {
            "text/plain": [
              "array([[1.00e+01, 3.00e+01, 1.30e-03, 1.50e-03],\n",
              "       [2.00e+01, 3.00e+01, 1.70e-03, 1.50e-03],\n",
              "       [3.00e+01, 3.00e+01, 3.80e-03, 1.50e-03],\n",
              "       [4.00e+01, 3.00e+01, 5.90e-03, 1.50e-03],\n",
              "       [5.00e+01, 3.00e+01, 6.70e-03, 1.50e-03],\n",
              "       [6.00e+01, 3.00e+01, 9.40e-03, 1.50e-03],\n",
              "       [7.00e+01, 3.00e+01, 1.22e-02, 1.50e-03],\n",
              "       [8.00e+01, 3.00e+01, 1.32e-02, 1.50e-03],\n",
              "       [9.00e+01, 3.00e+01, 1.51e-02, 1.50e-03],\n",
              "       [1.00e+02, 3.00e+01, 1.86e-02, 1.50e-03]])"
            ]
          },
          "metadata": {},
          "execution_count": 101
        }
      ]
    },
    {
      "cell_type": "markdown",
      "source": [
        "#1.C"
      ],
      "metadata": {
        "id": "YuRVpblw9QfT"
      }
    },
    {
      "cell_type": "code",
      "source": [
        "def desviacion(h,p,latitud,g):\n",
        "  return ((2*np.sqrt(2))/3)*p*np.cos(latitud)*np.sqrt(h**3/g)"
      ],
      "metadata": {
        "id": "GbB4_vBC9NI6"
      },
      "execution_count": 103,
      "outputs": []
    },
    {
      "cell_type": "markdown",
      "source": [
        "#1.D"
      ],
      "metadata": {
        "id": "TGhMG2_PA7yt"
      }
    },
    {
      "cell_type": "code",
      "source": [
        "N = len(b[:,0])\n",
        "sigma = b[:,3]\n",
        "sigma = np.abs(sigma)\n",
        "x=b[:,0]\n",
        "N1 = np.sum(datos)\n",
        "f = datos/N1\n",
        "g = np.sum(f,axis=1)\n",
        "h = np.sum(f,axis=0)\n",
        "po = np.zeros_like(f)\n",
        "fo = f*N1\n",
        "fe = po*N1\n",
        "for i in range(3):\n",
        "    for j in range(3):\n",
        "        po[i,j] = g[i]*h[j]\n",
        "def GetChi2(x,y):\n",
        "    return np.sum((x-y)**2/y)\n",
        "ObsChi2 = GetChi2(fo,fe)\n",
        "v,c = x,y = np.shape(datos)\n",
        "df = (v-1)*(c-1)\n",
        "CriChi2 = chi2.ppf(0.95,df=df)\n",
        "x = np.linspace(0,2*df,100)\n",
        "y = chi2.pdf(x,df=df)\n",
        "plt.plot(x,y)\n",
        "plt.axvline(x=ObsChi2,color='k')\n",
        "plt.axvline(x=CriChi2,color='r')\n",
        "def GetModel(x,p): \n",
        "    y = 0\n",
        "    for n in range(len(p)):\n",
        "        y += ((2*np.sqrt(2))/3)*p[n]*np.cos(30)*np.sqrt(x**3/9.8)        \n",
        "    return y\n",
        "def Chi22(p,x,y,sigma):\n",
        "    return np.sum (  (y-GetModel(x,p))**2/(2*sigma**2) )\n",
        "p0 = np.ones(6)"
      ],
      "metadata": {
        "colab": {
          "base_uri": "https://localhost:8080/",
          "height": 499
        },
        "id": "A3TwJsqdA7TT",
        "outputId": "1fe822ba-af60-45c3-cca4-dc9c7026b2dc"
      },
      "execution_count": 104,
      "outputs": [
        {
          "output_type": "stream",
          "name": "stderr",
          "text": [
            "<ipython-input-104-e7fdb37d9d42>:16: RuntimeWarning: divide by zero encountered in true_divide\n",
            "  return np.sum((x-y)**2/y)\n",
            "<ipython-input-104-e7fdb37d9d42>:16: RuntimeWarning: invalid value encountered in true_divide\n",
            "  return np.sum((x-y)**2/y)\n"
          ]
        },
        {
          "output_type": "display_data",
          "data": {
            "text/plain": [
              "<Figure size 640x480 with 1 Axes>"
            ],
            "image/png": "[encoded data removed]"
          },
          "metadata": {}
        }
      ]
    },
    {
      "cell_type": "code",
      "source": [
        "nll = lambda *p: Chi22(*p)\n",
        "result = spo.minimize( nll, p0, args=(b[:,0],b[:,2],sigma),options={'disp':True} )\n",
        "bestparam = result.x"
      ],
      "metadata": {
        "colab": {
          "base_uri": "https://localhost:8080/"
        },
        "id": "y4g3zzrRD9Ip",
        "outputId": "eec02539-ecee-477e-db5e-c6c2d4227fd0"
      },
      "execution_count": 105,
      "outputs": [
        {
          "output_type": "stream",
          "name": "stdout",
          "text": [
            "Warning: Desired error not necessarily achieved due to precision loss.\n",
            "         Current function value: 1.145716\n",
            "         Iterations: 4\n",
            "         Function evaluations: 348\n",
            "         Gradient evaluations: 48\n"
          ]
        }
      ]
    },
    {
      "cell_type": "markdown",
      "source": [
        "#1.E"
      ],
      "metadata": {
        "id": "NBvjPdSsEpBI"
      }
    },
    {
      "cell_type": "code",
      "source": [
        "bestparam = result.x\n",
        "e = np.sum(bestparam)/len(bestparam)\n",
        "e"
      ],
      "metadata": {
        "colab": {
          "base_uri": "https://localhost:8080/"
        },
        "id": "AtC1ry_7EIVb",
        "outputId": "f67a2f21-7dc5-4af5-f12f-deb1318a1823"
      },
      "execution_count": 106,
      "outputs": [
        {
          "output_type": "execute_result",
          "data": {
            "text/plain": [
              "6.775536533439502e-05"
            ]
          },
          "metadata": {},
          "execution_count": 106
        }
      ]
    },
    {
      "cell_type": "markdown",
      "source": [
        "#1.F\n"
      ],
      "metadata": {
        "id": "be32fM6HEh-r"
      }
    },
    {
      "cell_type": "code",
      "source": [
        "_x = np.linspace(np.min(b[:,0]),np.max(b[:,0]),10)\n",
        "_y = GetModel(_x,bestparam)\n",
        "plt.errorbar(b[:,0],b[:,2],xerr=0,yerr=b[:,3],fmt=\"_\")\n",
        "plt.scatter(b[:,0],b[:,2])\n",
        "plt.plot(_x,_y,color='r')"
      ],
      "metadata": {
        "colab": {
          "base_uri": "https://localhost:8080/",
          "height": 447
        },
        "id": "G6H1_I2-Ekx9",
        "outputId": "68c602f0-0099-473f-df84-d90e27e75df6"
      },
      "execution_count": 107,
      "outputs": [
        {
          "output_type": "execute_result",
          "data": {
            "text/plain": [
              "[<matplotlib.lines.Line2D at 0x7f934a906020>]"
            ]
          },
          "metadata": {},
          "execution_count": 107
        },
        {
          "output_type": "display_data",
          "data": {
            "text/plain": [
              "<Figure size 640x480 with 1 Axes>"
            ],
            "image/png": "[encoded data removed]"
          },
          "metadata": {}
        }
      ]
    },
    {
      "cell_type": "markdown",
      "source": [
        "#parte 2"
      ],
      "metadata": {
        "id": "nExRrLdxEsd2"
      }
    },
    {
      "cell_type": "markdown",
      "source": [
        "#2.A"
      ],
      "metadata": {
        "id": "-hxh6b9uEuSd"
      }
    },
    {
      "cell_type": "code",
      "source": [
        "N=300\n",
        "oa = []\n",
        "def gr (b):\n",
        "  gr = []\n",
        "  for i in range(N):\n",
        "    gr.append(9.81 + np.random.normal(loc=0,scale=1))\n",
        "  gr = np.asarray(gr)\n",
        "  return gr\n",
        "  \n",
        "gr = gr(b)"
      ],
      "metadata": {
        "id": "_-ewTZGzEri6"
      },
      "execution_count": 109,
      "outputs": []
    },
    {
      "cell_type": "markdown",
      "source": [
        "#2.B 2.C"
      ],
      "metadata": {
        "id": "poKX4UD0E2qd"
      }
    },
    {
      "cell_type": "code",
      "source": [
        "N=300\n",
        "Gravedad=np.zeros(N)\n",
        "for i in range(N):\n",
        "    Gravedad[i]=9.81 + np.random.normal(loc=0,scale=1)\n",
        "Gravedad"
      ],
      "metadata": {
        "colab": {
          "base_uri": "https://localhost:8080/"
        },
        "id": "X7jAqNXnE4jH",
        "outputId": "be657427-0473-424d-f1a1-0ca460dbe903"
      },
      "execution_count": 110,
      "outputs": [
        {
          "output_type": "execute_result",
          "data": {
            "text/plain": [
              "array([10.23737696, 10.20636442,  9.81662588, 10.47771525,  9.24977456,\n",
              "       11.13406205, 10.44421574, 10.01076291,  9.36267476,  8.80961793,\n",
              "        9.44461532,  9.04679849,  9.25135425, 10.36315708, 10.26777853,\n",
              "        9.87963639, 11.34012444,  7.99509304, 10.33811074, 10.30813536,\n",
              "        9.51419971,  9.59006371,  9.85513923, 12.66187448,  7.79119798,\n",
              "       11.38862935,  9.79340088,  8.46604853,  9.37919433,  9.44209958,\n",
              "       11.68222883, 11.05523557, 11.58901122,  9.17760063,  9.26410409,\n",
              "        9.2636462 , 10.03692351,  7.01936297,  9.21693896, 10.88884206,\n",
              "       11.87652321,  7.61817464,  9.67721784,  9.65229524,  9.55027854,\n",
              "       10.06693181, 10.13740267, 10.59973634, 11.25560889, 11.02874503,\n",
              "        8.69378101,  8.21494904, 11.54288272,  9.98140914, 10.91590623,\n",
              "        8.55912385,  9.54371455, 10.64119603, 10.59456896, 11.05508422,\n",
              "        8.93460488,  9.35276048,  8.50344845,  9.67166709,  9.49966204,\n",
              "        9.11088937,  9.67232038,  9.97525307,  8.70944908, 10.56464321,\n",
              "        9.58500221,  9.18505484, 10.5108177 , 10.13723167, 10.78483667,\n",
              "       12.0855621 , 11.48955463, 10.39351091,  8.27543014, 10.37854089,\n",
              "        9.13875821, 11.36852199, 11.10865741, 10.09314664, 10.62415659,\n",
              "        9.25508799,  9.40863114,  9.88736011, 10.90520859,  9.93627968,\n",
              "        8.66003543, 10.45043523,  9.94677526,  9.61104366,  9.50358885,\n",
              "       10.64710565,  9.94486671,  7.92033397, 10.5143475 ,  9.25018456,\n",
              "       10.06637538,  9.40534456,  9.98436748,  9.35086721,  9.43070441,\n",
              "       10.05841404, 10.13950241, 10.7662802 ,  9.81251379, 10.80140666,\n",
              "       10.31235993, 11.8873879 , 11.0552592 , 11.02054072, 10.06122066,\n",
              "       10.92526595,  7.96931663, 10.23743826,  9.36792198,  9.35324779,\n",
              "        9.24182003,  8.42539029,  9.59789514,  7.50859403,  9.10670434,\n",
              "       10.88441301,  8.85044135, 10.91516268, 10.99536521, 10.07541929,\n",
              "        8.27069956, 10.4580695 ,  9.65338818,  9.5152455 , 10.8302987 ,\n",
              "       10.58420001,  9.91451322, 11.93351007,  9.84382048,  9.45447066,\n",
              "        9.06400927,  8.81011257,  9.77177121,  9.64772027,  8.97332536,\n",
              "        8.34040305, 10.34042859,  8.57277462, 10.54948733,  9.23354438,\n",
              "        9.78964379, 10.10475996,  8.85748779, 10.06389922, 10.60011956,\n",
              "        8.847537  , 10.47376218,  9.91735595,  9.73097954,  8.24754096,\n",
              "        8.89852192, 11.26868216,  9.36233533, 10.30020213, 10.68064097,\n",
              "        9.50791643, 10.59749599,  9.73267758,  9.1391625 ,  9.72802346,\n",
              "        9.98994221,  7.94215161,  9.39827148, 11.46692383,  8.29164022,\n",
              "        9.31756709,  9.21481514,  8.69169728,  9.02837895,  7.12838709,\n",
              "        8.36641045, 10.59415034, 10.0215416 , 11.93356702, 10.3742955 ,\n",
              "        9.5355124 ,  9.5312791 ,  7.93241152,  8.63986013, 10.05788908,\n",
              "        9.47437432,  9.75328634,  7.75566957,  9.38781974, 11.11899492,\n",
              "        9.88747936,  8.40760288, 11.90094089,  8.56760647,  8.59162524,\n",
              "        9.3359396 , 11.40891654,  9.85590801, 10.52867429, 10.57518405,\n",
              "       10.57691319,  9.80190425,  9.7899039 , 10.30519477,  9.68864701,\n",
              "        9.93195766, 10.55579747, 11.22853255, 11.49377089,  8.61296306,\n",
              "        9.55365464,  8.51246305,  9.76839817, 10.24034426,  8.34218596,\n",
              "        9.22969262, 10.97550328,  9.23484932,  9.38391638,  8.29365511,\n",
              "       10.94626037,  9.52425224, 10.76655258,  9.04609409, 10.11218368,\n",
              "        8.77402939, 11.49297634, 10.08290669, 11.42357042,  8.34523108,\n",
              "        9.45638566, 11.00619073,  9.01348544,  9.07568876, 10.35119107,\n",
              "        9.08899206,  9.46516126, 11.19388161,  9.54324332,  8.92858854,\n",
              "       10.45008291, 10.76657202, 10.91256949,  8.46745868,  9.87967855,\n",
              "       10.80908968, 10.46629354, 10.96979093, 11.02759536,  9.85974072,\n",
              "       10.76025587, 10.59522689, 10.75300734,  8.27941481,  9.63089682,\n",
              "        9.681433  , 10.43822548, 10.04904338,  9.37817653,  9.49874084,\n",
              "       11.00623758, 11.59162114,  9.12936902,  7.41591969,  9.2869324 ,\n",
              "        8.70767642, 10.20565131,  7.88251944, 10.06118295, 10.89619478,\n",
              "        9.54092421,  9.70548501,  7.87115895,  6.96984979, 10.61034873,\n",
              "        9.89951209,  9.11566098, 10.40264647,  9.71077975, 10.91768119,\n",
              "        9.11976351, 10.63713788,  9.77012613,  8.41672424, 10.27889504,\n",
              "       10.06950508, 10.05342582,  8.86853753,  8.79344421,  8.74502386,\n",
              "        9.5078306 ,  9.24446298,  9.40956136, 11.2996092 ,  9.54093412])"
            ]
          },
          "metadata": {},
          "execution_count": 110
        }
      ]
    },
    {
      "cell_type": "markdown",
      "source": [
        "#2.D"
      ],
      "metadata": {
        "id": "qWzV2hcFHaKV"
      }
    },
    {
      "cell_type": "code",
      "source": [
        "def jijija(b):\n",
        "  new =[]\n",
        "  a = b.copy()\n",
        "  for i in range(len(b)):\n",
        "    for j in range(300):\n",
        "      o = []\n",
        "      o.append(b[i][2] + np.random.normal(loc=0,scale=datos[i][3],size=len(b[i])))\n",
        "    new.append(np.mean(o))\n",
        "  new = np.asarray(new)\n",
        "  a[:,2]= new\n",
        "  return a"
      ],
      "metadata": {
        "id": "85vtEvSPHZKi"
      },
      "execution_count": 111,
      "outputs": []
    },
    {
      "cell_type": "code",
      "source": [
        "u = jijija(b)\n",
        "u[:,2]"
      ],
      "metadata": {
        "colab": {
          "base_uri": "https://localhost:8080/"
        },
        "id": "qvdpnh6hHZRo",
        "outputId": "615cd0a5-5078-490e-e8ae-d683b5ae4c86"
      },
      "execution_count": 112,
      "outputs": [
        {
          "output_type": "execute_result",
          "data": {
            "text/plain": [
              "array([0.00153129, 0.00248424, 0.00351216, 0.00607993, 0.00648083,\n",
              "       0.00902418, 0.01366834, 0.01419758, 0.0147006 , 0.01792131])"
            ]
          },
          "metadata": {},
          "execution_count": 112
        }
      ]
    },
    {
      "cell_type": "markdown",
      "source": [
        "#2.E"
      ],
      "metadata": {
        "id": "H73_Q4TqH1VO"
      }
    },
    {
      "cell_type": "code",
      "source": [
        "def Chi22(p,x,y,sigma):\n",
        "    return np.sum (  (y-GetModel(x,p))**2/(2*sigma**2) )\n",
        "nll = lambda *p: Chi22(*p)\n",
        "result = spo.minimize( nll, p0, args=(b[:,0],b[:,2],sigma),options={'disp':True} )\n",
        "bestparam = result.x"
      ],
      "metadata": {
        "colab": {
          "base_uri": "https://localhost:8080/"
        },
        "id": "MxEpWQgdH4XL",
        "outputId": "1e2832ba-ad96-4c72-d656-9dc892ec48b7"
      },
      "execution_count": 113,
      "outputs": [
        {
          "output_type": "stream",
          "name": "stdout",
          "text": [
            "Warning: Desired error not necessarily achieved due to precision loss.\n",
            "         Current function value: 1.145716\n",
            "         Iterations: 4\n",
            "         Function evaluations: 348\n",
            "         Gradient evaluations: 48\n"
          ]
        }
      ]
    },
    {
      "cell_type": "code",
      "source": [
        "e = np.sum(bestparam)/len(bestparam)\n",
        "e"
      ],
      "metadata": {
        "colab": {
          "base_uri": "https://localhost:8080/"
        },
        "id": "4gXAy3GLIDpd",
        "outputId": "8ceb8f80-1769-4cce-e41b-bae392f34358"
      },
      "execution_count": 114,
      "outputs": [
        {
          "output_type": "execute_result",
          "data": {
            "text/plain": [
              "6.775536533439502e-05"
            ]
          },
          "metadata": {},
          "execution_count": 114
        }
      ]
    },
    {
      "cell_type": "markdown",
      "source": [
        "#2.f"
      ],
      "metadata": {
        "id": "GI_WxHSPQEbd"
      }
    },
    {
      "cell_type": "code",
      "source": [
        "g = 9.81 + np.random.normal(loc=0,scale=1)\n",
        "N = len(b[:,0])\n",
        "sg = np.abs(b[:,2])\n",
        "h = b[:,0]\n",
        "po = np.ones(6)\n",
        "def GetModel_2(x,p,g): \n",
        "    y = 0\n",
        "    for n in range(len(p)):\n",
        "        y += ((2*np.sqrt(2))/3)*p[n]*np.cos(30)*np.sqrt(x**3/g)        \n",
        "    return y\n",
        "def Chi222(p,x,y,sigma,g):\n",
        "    return np.sum (  (y-GetModel_2(x,p,g))**2/(2*sigma**2) )\n",
        "\n",
        "nlll = lambda *p: Chi222(*p,g)   \n",
        "\n",
        "def modelo(b):\n",
        "  o = b.copy()\n",
        "  for i in range(len(o)):\n",
        "    o[i][2] = o[i][2] + np.random.normal(loc=0,scale=0.0015)\n",
        "   \n",
        "p0 = np.ones(6)\n",
        "result = spo.minimize(nlll,p0,args=(h,b[:,2],sigma),options={'disp':True})\n",
        "bestP = result.x\n",
        "bestP = np.mean(bestP)\n",
        "po = np.array([bestP,g])"
      ],
      "metadata": {
        "colab": {
          "base_uri": "https://localhost:8080/"
        },
        "id": "gyOp_QpnQRfi",
        "outputId": "801ab2c1-c129-4978-b7a7-a3a7dbd3945d"
      },
      "execution_count": 116,
      "outputs": [
        {
          "output_type": "stream",
          "name": "stdout",
          "text": [
            "Warning: Desired error not necessarily achieved due to precision loss.\n",
            "         Current function value: 1.145716\n",
            "         Iterations: 6\n",
            "         Function evaluations: 390\n",
            "         Gradient evaluations: 54\n"
          ]
        }
      ]
    },
    {
      "cell_type": "code",
      "source": [
        "def emp(b):\n",
        "  o = b.copy()\n",
        "  t = []\n",
        "  for i in range(len(b)):\n",
        "    p = jijija(b)\n",
        "    o[:,2] = p[:,2]\n",
        "    p0 = np.ones(6)\n",
        "    result = spo.minimize(nlll,p0,args=(h,b[:,2],sigma))\n",
        "    bestP = result.x\n",
        "    bestP = np.mean(bestP)\n",
        "  u = 9.81 + np.random.normal(loc=0,scale=1)\n",
        "  return bestP,u\n",
        "emp(b)"
      ],
      "metadata": {
        "colab": {
          "base_uri": "https://localhost:8080/"
        },
        "id": "qtH9WGEOdPF2",
        "outputId": "5fbd0a01-cd66-4644-8f6e-c6a0f99f3d7e"
      },
      "execution_count": 117,
      "outputs": [
        {
          "output_type": "execute_result",
          "data": {
            "text/plain": [
              "(7.653932766042242e-05, 9.889964542042993)"
            ]
          },
          "metadata": {},
          "execution_count": 117
        }
      ]
    },
    {
      "cell_type": "code",
      "source": [
        "kj= np.array([])\n",
        "for i in tqdm(range(10)):\n",
        "  y= emp(b)\n",
        "  kj = np.append(kj,y[:])"
      ],
      "metadata": {
        "colab": {
          "base_uri": "https://localhost:8080/"
        },
        "id": "Dj9uVOZ3X-Vr",
        "outputId": "74043c70-b1fc-45f1-d220-787110b8b258"
      },
      "execution_count": 118,
      "outputs": [
        {
          "output_type": "stream",
          "name": "stderr",
          "text": [
            "100%|██████████| 10/10 [00:07<00:00,  1.38it/s]\n"
          ]
        }
      ]
    },
    {
      "cell_type": "markdown",
      "source": [
        "#2.g\n",
        "#Las variables no estan relacionadas"
      ],
      "metadata": {
        "id": "Oxw87N-YmwQ1"
      }
    }
  ]
}