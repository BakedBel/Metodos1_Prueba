{
  "nbformat": 4,
  "nbformat_minor": 0,
  "metadata": {
    "colab": {
      "provenance": []
    },
    "kernelspec": {
      "name": "python3",
      "display_name": "Python 3"
    },
    "language_info": {
      "name": "python"
    }
  },
  "cells": [
    {
      "cell_type": "code",
      "execution_count": null,
      "metadata": {
        "id": "jcy3GNSxCQvM"
      },
      "outputs": [],
      "source": [
        "import sympy"
      ]
    },
    {
      "cell_type": "code",
      "source": [
        "jx = sympy.matrices.Matrix([[0,0,0],[0,0,-1],[0,1,0]])\n",
        "jy = sympy.matrices.Matrix([[0,0,1],[0,0,0],[-1,0,0]])\n",
        "jz = sympy.matrices.Matrix([[0,-1,0],[1,0,0],[0,0,0]])"
      ],
      "metadata": {
        "id": "M4ew9GH7GDZa"
      },
      "execution_count": null,
      "outputs": []
    },
    {
      "cell_type": "code",
      "source": [],
      "metadata": {
        "id": "7Gi_-SwDcoQ0"
      },
      "execution_count": null,
      "outputs": []
    },
    {
      "cell_type": "code",
      "source": [
        "%%latex\n",
        "$ [J_{i}, J_{j}] = J_{i}J_{j} − J_{j}*J_{x} = \\epsilon_{ijk} J_{k}"
      ],
      "metadata": {
        "colab": {
          "base_uri": "https://localhost:8080/",
          "height": 39
        },
        "id": "KNLEtjPIJoQj",
        "outputId": "cf9e9fe4-29d9-43c4-8a4a-7a06bc5e2c15"
      },
      "execution_count": null,
      "outputs": [
        {
          "output_type": "display_data",
          "data": {
            "text/plain": [
              "<IPython.core.display.Latex object>"
            ],
            "text/latex": "$ [J_{i}, J_{j}] = J_{i}J_{j} − J_{j}*J_{x} = \\epsilon_{ijk} J_{k}\n"
          },
          "metadata": {}
        }
      ]
    },
    {
      "cell_type": "code",
      "source": [
        "%%latex\n",
        "$  \"considere\" i = x, j = y, k = z \"tal que\"\\epsilon_{ijk} = \\epsilon_{123} = +1"
      ],
      "metadata": {
        "colab": {
          "base_uri": "https://localhost:8080/",
          "height": 39
        },
        "id": "IqEmC2FxX2X1",
        "outputId": "3fe7d13c-2b65-4408-ba3d-8965c7f065d2"
      },
      "execution_count": null,
      "outputs": [
        {
          "output_type": "display_data",
          "data": {
            "text/plain": [
              "<IPython.core.display.Latex object>"
            ],
            "text/latex": "$  \"considere\" i = x, j = y, k = z \"tal que\"\\epsilon_{ijk} = \\epsilon_{123} = +1\n"
          },
          "metadata": {}
        }
      ]
    },
    {
      "cell_type": "code",
      "source": [
        "a = jx*jy-jy*jx\n",
        "a"
      ],
      "metadata": {
        "colab": {
          "base_uri": "https://localhost:8080/",
          "height": 78
        },
        "id": "I8uJyrVdRsur",
        "outputId": "c1cb5c36-b46e-43a5-84a3-c7c1a104bb1e"
      },
      "execution_count": null,
      "outputs": [
        {
          "output_type": "execute_result",
          "data": {
            "text/plain": [
              "Matrix([\n",
              "[0, -1, 0],\n",
              "[1,  0, 0],\n",
              "[0,  0, 0]])"
            ],
            "text/latex": "$\\displaystyle \\left[\\begin{matrix}0 & -1 & 0\\\\1 & 0 & 0\\\\0 & 0 & 0\\end{matrix}\\right]$"
          },
          "metadata": {},
          "execution_count": 38
        }
      ]
    },
    {
      "cell_type": "code",
      "source": [
        " b = +1 * jz\n",
        " b"
      ],
      "metadata": {
        "colab": {
          "base_uri": "https://localhost:8080/",
          "height": 78
        },
        "id": "mdyd5WPFYyrA",
        "outputId": "afd34e56-4dc3-4840-fd8e-d44d62a162ae"
      },
      "execution_count": null,
      "outputs": [
        {
          "output_type": "execute_result",
          "data": {
            "text/plain": [
              "Matrix([\n",
              "[0, -1, 0],\n",
              "[1,  0, 0],\n",
              "[0,  0, 0]])"
            ],
            "text/latex": "$\\displaystyle \\left[\\begin{matrix}0 & -1 & 0\\\\1 & 0 & 0\\\\0 & 0 & 0\\end{matrix}\\right]$"
          },
          "metadata": {},
          "execution_count": 39
        }
      ]
    },
    {
      "cell_type": "code",
      "source": [
        "a == b"
      ],
      "metadata": {
        "id": "OEkgdQDbg7X2",
        "outputId": "84b6d124-94f6-48e7-df22-bfb14dc852de",
        "colab": {
          "base_uri": "https://localhost:8080/"
        }
      },
      "execution_count": null,
      "outputs": [
        {
          "output_type": "execute_result",
          "data": {
            "text/plain": [
              "True"
            ]
          },
          "metadata": {},
          "execution_count": 40
        }
      ]
    }
  ]
}