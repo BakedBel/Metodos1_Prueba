{
  "nbformat": 4,
  "nbformat_minor": 0,
  "metadata": {
    "colab": {
      "provenance": []
    },
    "kernelspec": {
      "name": "python3",
      "display_name": "Python 3"
    },
    "language_info": {
      "name": "python"
    }
  },
  "cells": [
    {
      "cell_type": "code",
      "execution_count": 2,
      "metadata": {
        "id": "7VDev_cSFXgF"
      },
      "outputs": [],
      "source": [
        "import numpy as np\n",
        "\n",
        "def func(x):\n",
        "    \n",
        "    return 60 * x[2] + 3 * np.exp(-x[0] * x[1]) + 10 * np.pi - 3\n",
        "\n",
        "def jacobian(func, x, h):\n",
        "\n",
        "    n = len(x)\n",
        "    J = np.zeros((n, n))\n",
        "    fx = func(x)\n",
        "    \n",
        "    for i in range(n):\n",
        "      \n",
        "        xph = x.copy()\n",
        "        xph[i] += h\n",
        "        fxph = func(xph)\n",
        "        J[:, i] = (-fxph + 8 * fx - 8 * func(x - h) + func(x - 2 * h)) / (12 * h)\n",
        "    \n",
        "    return J\n",
        "\n"
      ]
    },
    {
      "cell_type": "code",
      "source": [
        "x = np.array([0.5, 0.5, 0.5])\n",
        "J = jacobian(func, x, h=0.01)\n",
        "\n",
        "print(\"El Jacobiano estimado en el punto x=(0.5, 0.5, 0.5) es:\")\n",
        "print(J)"
      ],
      "metadata": {
        "colab": {
          "base_uri": "https://localhost:8080/"
        },
        "id": "W_byuuYWu61T",
        "outputId": "9bd867cb-d34d-439b-e160-ade3fa69d734"
      },
      "execution_count": 3,
      "outputs": [
        {
          "output_type": "stream",
          "name": "stdout",
          "text": [
            "El Jacobiano estimado en el punto x=(0.5, 0.5, 0.5) es:\n",
            "[[28.93280004 28.93280004 23.83569291]\n",
            " [28.93280004 28.93280004 23.83569291]\n",
            " [28.93280004 28.93280004 23.83569291]]\n"
          ]
        }
      ]
    },
    {
      "cell_type": "code",
      "source": [
        "def jacobian2(func, x, h=0.01):\n",
        "\n",
        "    n = len(x)\n",
        "    J = np.zeros((n, n))\n",
        "    fx = func(x)\n",
        "    \n",
        "    for i in range(n):\n",
        "        \n",
        "        xph = x.copy()\n",
        "        xph[i] += h\n",
        "        fxph = func(xph)\n",
        "        J[:, i] = (fxph - fx) / h\n",
        "    \n",
        "    return J\n",
        "\n",
        "J2 = jacobian2(func, x, h=0.01)\n",
        "\n",
        "print(\"El Jacobiano estimado con orden O(h^2) en el punto x=(0.5, 0.5, 0.5) es:\")\n",
        "print(J2)"
      ],
      "metadata": {
        "colab": {
          "base_uri": "https://localhost:8080/"
        },
        "id": "FWapgPQ7v9a1",
        "outputId": "5360d106-916e-4ab0-bfff-9ed2d026169d"
      },
      "execution_count": 7,
      "outputs": [
        {
          "output_type": "stream",
          "name": "stdout",
          "text": [
            "El Jacobiano estimado con orden O(h^2) en el punto x=(0.5, 0.5, 0.5) es:\n",
            "[[-1.16528553 -1.16528553 60.        ]\n",
            " [-1.16528553 -1.16528553 60.        ]\n",
            " [-1.16528553 -1.16528553 60.        ]]\n"
          ]
        }
      ]
    },
    {
      "cell_type": "code",
      "source": [
        "for i, h in enumerate([0.1, 0.05, 0.01, 0.005, 0.001]):\n",
        "    J4 = jacobian(func, x, h=h)\n",
        "    print(f\"El Jacobiano estimado con orden O(h^4) y h={h} en el punto x=(0.5, 0.5, 0.5) es:\")\n",
        "    print(J4)\n",
        "    print(f\"Diferencia con respecto al Jacobiano estimado con orden O(h^2): {np.max(np.abs(J4 - J2)):.8f}\")\n",
        "    print()"
      ],
      "metadata": {
        "colab": {
          "base_uri": "https://localhost:8080/"
        },
        "id": "yB7ae8_Lwdsc",
        "outputId": "21959093-797a-4011-f5b1-9f2cc69502ca"
      },
      "execution_count": 8,
      "outputs": [
        {
          "output_type": "stream",
          "name": "stdout",
          "text": [
            "El Jacobiano estimado con orden O(h^4) y h=0.1 en el punto x=(0.5, 0.5, 0.5) es:\n",
            "[[28.96592229 28.96592229 23.87096589]\n",
            " [28.96592229 28.96592229 23.87096589]\n",
            " [28.96592229 28.96592229 23.87096589]]\n",
            "Diferencia con respecto al Jacobiano estimado con orden O(h^2): 36.12903411\n",
            "\n",
            "El Jacobiano estimado con orden O(h^4) y h=0.05 en el punto x=(0.5, 0.5, 0.5) es:\n",
            "[[28.94743035 28.94743035 23.85128705]\n",
            " [28.94743035 28.94743035 23.85128705]\n",
            " [28.94743035 28.94743035 23.85128705]]\n",
            "Diferencia con respecto al Jacobiano estimado con orden O(h^2): 36.14871295\n",
            "\n",
            "El Jacobiano estimado con orden O(h^4) y h=0.01 en el punto x=(0.5, 0.5, 0.5) es:\n",
            "[[28.93280004 28.93280004 23.83569291]\n",
            " [28.93280004 28.93280004 23.83569291]\n",
            " [28.93280004 28.93280004 23.83569291]]\n",
            "Diferencia con respecto al Jacobiano estimado con orden O(h^2): 36.16430709\n",
            "\n",
            "El Jacobiano estimado con orden O(h^4) y h=0.005 en el punto x=(0.5, 0.5, 0.5) es:\n",
            "[[28.93097435 28.93097435 23.83374584]\n",
            " [28.93097435 28.93097435 23.83374584]\n",
            " [28.93097435 28.93097435 23.83374584]]\n",
            "Diferencia con respecto al Jacobiano estimado con orden O(h^2): 36.16625416\n",
            "\n",
            "El Jacobiano estimado con orden O(h^4) y h=0.001 en el punto x=(0.5, 0.5, 0.5) es:\n",
            "[[28.92951399 28.92951399 23.83218823]\n",
            " [28.92951399 28.92951399 23.83218823]\n",
            " [28.92951399 28.92951399 23.83218823]]\n",
            "Diferencia con respecto al Jacobiano estimado con orden O(h^2): 36.16781177\n",
            "\n"
          ]
        }
      ]
    }
  ]
}