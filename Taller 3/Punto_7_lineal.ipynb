{
  "nbformat": 4,
  "nbformat_minor": 0,
  "metadata": {
    "colab": {
      "provenance": []
    },
    "kernelspec": {
      "name": "python3",
      "display_name": "Python 3"
    },
    "language_info": {
      "name": "python"
    }
  },
  "cells": [
    {
      "cell_type": "code",
      "execution_count": null,
      "metadata": {
        "colab": {
          "base_uri": "https://localhost:8080/"
        },
        "id": "vhPnaN05-kJL",
        "outputId": "38261420-f265-4004-8602-a2b311ae5096"
      },
      "outputs": [
        {
          "output_type": "stream",
          "name": "stdout",
          "text": [
            "L =\n",
            "[[ 1.  0.  0.]\n",
            " [ 5.  1.  0.]\n",
            " [-2.  3.  1.]]\n",
            "U =\n",
            "[[ 4. -2.  1.]\n",
            " [ 0.  3.  7.]\n",
            " [ 0.  0. -2.]]\n"
          ]
        }
      ],
      "source": [
        "import numpy as np\n",
        "\n",
        "A = np.array([[4, -2, 1], [20, -7, 12], [-8, 13, 17]])\n",
        "\n",
        "n = A.shape[0]\n",
        "L = np.eye(n)\n",
        "U = np.zeros((n, n))\n",
        "\n",
        "for i in range(n):\n",
        "    U[i, i:] = A[i, i:] - L[i, :i] @ U[:i, i:]\n",
        "    L[i+1:, i] = (A[i+1:, i] - L[i+1:, :i] @ U[:i, i]) / U[i, i]\n",
        "\n",
        "print(\"L =\")\n",
        "print(L)\n",
        "print(\"U =\")\n",
        "print(U)\n"
      ]
    }
  ]
}