{
  "nbformat": 4,
  "nbformat_minor": 0,
  "metadata": {
    "colab": {
      "provenance": []
    },
    "kernelspec": {
      "name": "python3",
      "display_name": "Python 3"
    },
    "language_info": {
      "name": "python"
    }
  },
  "cells": [
    {
      "cell_type": "code",
      "execution_count": 2,
      "metadata": {
        "id": "zQqSIc7y6Lwj"
      },
      "outputs": [],
      "source": [
        "import numpy as np"
      ]
    },
    {
      "cell_type": "code",
      "source": [
        "w = np.linspace(0.01, 2., 20)\n",
        "A = np.array([[3., -1., -1.], [-1., 3., 1.], [2.,1.,4.]])\n",
        "b = np.array([1., 3., 7.])\n",
        "x0 = np.array([1., 1., 1.])"
      ],
      "metadata": {
        "id": "PlXC9GGgDHyG"
      },
      "execution_count": 3,
      "outputs": []
    },
    {
      "cell_type": "code",
      "source": [
        "import numpy as np\n",
        "\n",
        "def solver(A, b, x0, w, tol=1e-9, max_iter=1000):\n",
        "    x_old = x0.copy()\n",
        "    it = 0\n",
        "    for i in range(max_iter):\n",
        "        x_new = np.zeros_like(x_old)\n",
        "        for j in range(len(b)):\n",
        "          s = b[j] - np.dot(A[j], x_old) - np.dot(A[j-1], x_new)\n",
        "          x_new[j] = (1 - w)*x_old[j] + (w / A[j,j]) * s\n",
        "        if np.linalg.norm(x_new - x_old) < tol:\n",
        "            return x_new, it\n",
        "        it +=1\n",
        "        x_old = x_new\n",
        "    return x_new, it\n",
        "\n",
        "def min (w):\n",
        "  x,min = solver(A,b,x0,w[0])\n",
        "  w_win = w[0]\n",
        "  for i in range(len(w)):\n",
        "    j, g = solver(A,b,x0,w[i])\n",
        "    if g <= min and type(g) != None:\n",
        "      min = g\n",
        "      w_win = w[i]\n",
        "\n",
        "  return w_win\n",
        "\n",
        "w_min = min(w)\n",
        "x,it = solver(A, b, x0, w_min)\n",
        "print(\"________________________________________________________________________________\")\n",
        "print(f\"Solución: {x}\")\n",
        "print(f\"Número de iteraciones:\",it)\n",
        "print(f\"Valor óptimo de w: {w_min}\")\n",
        "print(\"________________________________________________________________________________\")\n",
        "\n"
      ],
      "metadata": {
        "id": "f4KbnObiDyP0",
        "colab": {
          "base_uri": "https://localhost:8080/"
        },
        "outputId": "2c7f545d-1184-44dd-a3ad-7a36e0e1f4b0"
      },
      "execution_count": 35,
      "outputs": [
        {
          "output_type": "stream",
          "name": "stdout",
          "text": [
            "________________________________________________________________________________\n",
            "Solución: [0.32851986 0.27436823 0.6967509 ]\n",
            "Número de iteraciones: 14\n",
            "Valor óptimo de w: 0.5336842105263158\n",
            "________________________________________________________________________________\n"
          ]
        },
        {
          "output_type": "stream",
          "name": "stderr",
          "text": [
            "<ipython-input-35-0842bb83ad33>:9: RuntimeWarning: overflow encountered in double_scalars\n",
            "  s = b[j] - np.dot(A[j], x_old) - np.dot(A[j-1], x_new)\n",
            "<ipython-input-35-0842bb83ad33>:9: RuntimeWarning: invalid value encountered in double_scalars\n",
            "  s = b[j] - np.dot(A[j], x_old) - np.dot(A[j-1], x_new)\n"
          ]
        }
      ]
    }
  ]
}