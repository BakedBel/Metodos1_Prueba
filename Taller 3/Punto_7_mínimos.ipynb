{
  "nbformat": 4,
  "nbformat_minor": 0,
  "metadata": {
    "colab": {
      "provenance": []
    },
    "kernelspec": {
      "name": "python3",
      "display_name": "Python 3"
    },
    "language_info": {
      "name": "python"
    }
  },
  "cells": [
    {
      "cell_type": "code",
      "execution_count": 39,
      "metadata": {
        "id": "ph1BdNP87Y-V"
      },
      "outputs": [],
      "source": [
        "from scipy import optimize\n",
        "import numpy as np\n",
        "import matplotlib.pyplot as plt\n",
        "import pandas as pd\n",
        "import os.path as path\n",
        "import urllib.request"
      ]
    },
    {
      "cell_type": "code",
      "source": [
        "file = 'Sigmoid.csv'\n",
        "url = 'https://raw.githubusercontent.com/asegura4488/Database/main/MetodosComputacionalesReforma/Sigmoid.csv'\n",
        "\n",
        "if not path.exists(file):\n",
        "    urllib.request.urlretrieve(url, file)\n",
        "    Path_ = file\n",
        "else:\n",
        "    Path_ = file\n",
        "\n",
        "Data = pd.read_csv(Path_,sep=',')\n",
        "x = np.float64(Data['x'])\n",
        "y = np.float64(Data['y'])\n",
        "n = y.size\n",
        "h = 0.01"
      ],
      "metadata": {
        "id": "7I2Y3VDcBrog"
      },
      "execution_count": 52,
      "outputs": []
    },
    {
      "cell_type": "code",
      "source": [
        "def fun(x, t0,t1,t2):\n",
        "    \n",
        "    res = t0/ (t1 + np.exp(-t2*x))\n",
        "    \n",
        "    return res\n",
        "def costo(x,y, t1,t2,t3):\n",
        "    chi = 0\n",
        "    \n",
        "    for i in range(n):\n",
        "        chi += (y[i] - fun(x[i],t1,t2,t3))**2\n",
        "    return chi \n",
        "def Derivadas(x,y,t0,t1,t2):\n",
        "    J = np.zeros(3)\n",
        "    \n",
        "    J[0] = ( costo(x,y,t0+h,t1,t2) - costo(x,y,t0-h,t1,t2))/(2*h)\n",
        "    J[1] = ( costo(x,y,t0,t1+h,t2) - costo(x,y,t0,t1-h,t2))/(2*h)\n",
        "    J[2] = ( costo(x,y,t0,t1,t2+h) - costo(x,y,t0,t1,t2-h))/(2*h)\n",
        "    return J\n",
        "def Descenso( teta, lr, itmax, error):\n",
        "    it = 0\n",
        "    d = 1\n",
        "    while d > error and it < itmax:\n",
        "        x0 = Derivadas(x,y,teta[0],teta[1],teta[2])\n",
        "        \n",
        "        teta = teta - lr*x0\n",
        "        \n",
        "        d = np.linalg.norm(teta-optimize.curve_fit(fun,x,y)[0])\n",
        "        \n",
        "        it += 1\n",
        "        \n",
        "\n",
        "    return teta, d,it"
      ],
      "metadata": {
        "id": "_2FXyku4DS0y"
      },
      "execution_count": 53,
      "outputs": []
    },
    {
      "cell_type": "code",
      "source": [
        "print('Puede demorarse unos segundos...')\n",
        "teta0 = np.array([1,1,1])\n",
        "p = Descenso(teta0,5e-4,2e4,1e-2)\n",
        "\n",
        "t0 = p[0][0]\n",
        "t1 = p[0][1]\n",
        "t2 = p[0][2]\n",
        "\n",
        "chi = costo(x,y,t0,t1,t2)\n",
        "\n",
        "print('Los puntos que mejor se ajustan al modelo son: \\n', str(t0)+'\\n',str(t1)+'\\n',str(t2)+'\\n')\n"
      ],
      "metadata": {
        "colab": {
          "base_uri": "https://localhost:8080/"
        },
        "id": "dOyx4ihyGO5e",
        "outputId": "7ad8d64b-5109-46aa-ac5b-0fd77e279a1b"
      },
      "execution_count": 56,
      "outputs": [
        {
          "output_type": "stream",
          "name": "stdout",
          "text": [
            "Puede demorarse unos segundos...\n",
            "Los puntos que mejor se ajustan al modelo son: \n",
            " 4.394141971870481\n",
            " 0.9737879524137685\n",
            " 2.789338222493078\n",
            "\n"
          ]
        }
      ]
    },
    {
      "cell_type": "code",
      "source": [
        "x1 = np.linspace(min(x),max(x),500)\n",
        "fig = plt.figure(figsize=(5,5))\n",
        "ax = fig.add_subplot(1,1,1)\n",
        "ax.scatter(x,y,c='r')\n",
        "plt.plot(x1,fun(x1,t0,t1,t2),c='b')"
      ],
      "metadata": {
        "colab": {
          "base_uri": "https://localhost:8080/",
          "height": 462
        },
        "id": "bmeLArtHK6Ta",
        "outputId": "eadf1024-e382-4987-eadc-430ffaff3316"
      },
      "execution_count": 55,
      "outputs": [
        {
          "output_type": "execute_result",
          "data": {
            "text/plain": [
              "[<matplotlib.lines.Line2D at 0x7f82ec045910>]"
            ]
          },
          "metadata": {},
          "execution_count": 55
        },
        {
          "output_type": "display_data",
          "data": {
            "text/plain": [
              "<Figure size 500x500 with 1 Axes>"
            ],
            "image/png": "[encoded data removed]"
          },
          "metadata": {}
        }
      ]
    }
  ]
}