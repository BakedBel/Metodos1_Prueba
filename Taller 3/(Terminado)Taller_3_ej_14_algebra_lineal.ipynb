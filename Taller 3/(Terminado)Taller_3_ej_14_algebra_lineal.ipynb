{
  "nbformat": 4,
  "nbformat_minor": 0,
  "metadata": {
    "colab": {
      "provenance": []
    },
    "kernelspec": {
      "name": "python3",
      "display_name": "Python 3"
    },
    "language_info": {
      "name": "python"
    }
  },
  "cells": [
    {
      "cell_type": "code",
      "execution_count": null,
      "metadata": {
        "id": "1wbhaHnHZAvn"
      },
      "outputs": [],
      "source": [
        "import sympy "
      ]
    },
    {
      "cell_type": "code",
      "source": [
        "i =  sympy.Symbol('i',real=False)\n",
        "sx = sympy.matrices.Matrix([[0,1],[1,0]])\n",
        "sy = sympy.matrices.Matrix([[0,-i],[i,0]])\n",
        "sz = sympy.matrices.Matrix([[1,0],[0,-1]])"
      ],
      "metadata": {
        "id": "VXYibF6jcw-t"
      },
      "execution_count": null,
      "outputs": []
    },
    {
      "cell_type": "code",
      "source": [
        "fz = sx*sy-sy*sx\n",
        "fz"
      ],
      "metadata": {
        "colab": {
          "base_uri": "https://localhost:8080/",
          "height": 58
        },
        "id": "ALHiwlYNd3Zt",
        "outputId": "1af945ff-9124-457f-9bb2-78bcf7174d0d"
      },
      "execution_count": null,
      "outputs": [
        {
          "output_type": "execute_result",
          "data": {
            "text/plain": [
              "Matrix([\n",
              "[2*i,    0],\n",
              "[  0, -2*i]])"
            ],
            "text/latex": "$\\displaystyle \\left[\\begin{matrix}2 i & 0\\\\0 & - 2 i\\end{matrix}\\right]$"
          },
          "metadata": {},
          "execution_count": 4
        }
      ]
    },
    {
      "cell_type": "code",
      "source": [
        "kz = 2*i*sz\n",
        "kz"
      ],
      "metadata": {
        "id": "_rZb2Iwkggw_",
        "colab": {
          "base_uri": "https://localhost:8080/",
          "height": 58
        },
        "outputId": "9b93ee1e-f1c9-4a20-91d5-b69967af1bae"
      },
      "execution_count": null,
      "outputs": [
        {
          "output_type": "execute_result",
          "data": {
            "text/plain": [
              "Matrix([\n",
              "[2*i,    0],\n",
              "[  0, -2*i]])"
            ],
            "text/latex": "$\\displaystyle \\left[\\begin{matrix}2 i & 0\\\\0 & - 2 i\\end{matrix}\\right]$"
          },
          "metadata": {},
          "execution_count": 5
        }
      ]
    },
    {
      "cell_type": "code",
      "source": [
        "fz == kz"
      ],
      "metadata": {
        "colab": {
          "base_uri": "https://localhost:8080/"
        },
        "id": "5cc7elyYgpFx",
        "outputId": "972beaea-82d3-4f25-97b4-e0daec370657"
      },
      "execution_count": null,
      "outputs": [
        {
          "output_type": "execute_result",
          "data": {
            "text/plain": [
              "True"
            ]
          },
          "metadata": {},
          "execution_count": 6
        }
      ]
    }
  ]
}