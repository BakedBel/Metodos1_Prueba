{
  "nbformat": 4,
  "nbformat_minor": 0,
  "metadata": {
    "colab": {
      "provenance": []
    },
    "kernelspec": {
      "name": "python3",
      "display_name": "Python 3"
    },
    "language_info": {
      "name": "python"
    }
  },
  "cells": [
    {
      "cell_type": "code",
      "execution_count": null,
      "metadata": {
        "id": "Jl-aClKko951"
      },
      "outputs": [],
      "source": [
        "import numpy as np"
      ]
    },
    {
      "cell_type": "code",
      "source": [
        "A = np.array([[1, 2, -1],[1, 0, 1],[4, -4, 5]])\n",
        "def compute_eig(A):\n",
        "    eig_vals, eig_vecs = np.linalg.eig(A)\n",
        "    return eig_vals, eig_vecs\n",
        "eig_vals, eig_vecs = compute_eig(A)\n",
        "idx_min = np.argmin(eig_vals)\n",
        "min_eig_val = eig_vals[idx_min]\n",
        "min_eig_vec = eig_vecs[:, idx_min]\n",
        "A = A - min_eig_val * np.eye(3)"
      ],
      "metadata": {
        "id": "nyTdTIyKDIm4"
      },
      "execution_count": null,
      "outputs": []
    },
    {
      "cell_type": "code",
      "source": [
        "def norm(vec):\n",
        "    return np.linalg.norm(vec)\n",
        "def gradient(f, x, h=0.00001):\n",
        "    grad = np.zeros_like(x)\n",
        "    for i in range(len(x)):\n",
        "        x_plus = x.copy()\n",
        "        x_plus[i] += h\n",
        "        x_minus = x.copy()\n",
        "        x_minus[i] -= h\n",
        "        grad[i] = (f(x_plus) - f(x_minus)) / (2 * h)\n",
        "    return grad"
      ],
      "metadata": {
        "id": "_afofPfJDJGO"
      },
      "execution_count": null,
      "outputs": []
    },
    {
      "cell_type": "code",
      "source": [
        "def gradient_descent(f, x, alpha=0.1, eps=1e-16, itmax=10000):\n",
        "    for i in range(itmax):\n",
        "        grad = gradient(f, x)\n",
        "        grad_norm = norm(grad)\n",
        "        if grad_norm < eps:\n",
        "            break\n",
        "        x -= alpha * grad / grad_norm\n",
        "    return x / norm(x)"
      ],
      "metadata": {
        "id": "esBOOJi6DJI2"
      },
      "execution_count": null,
      "outputs": []
    },
    {
      "cell_type": "code",
      "source": [
        "\n",
        "def f(x):\n",
        "    return norm(A @ x)\n",
        "ground_state = gradient_descent(f, np.array([1.0, 0.0, 0.0]))"
      ],
      "metadata": {
        "id": "rsTN1CdkDJLI"
      },
      "execution_count": null,
      "outputs": []
    },
    {
      "cell_type": "code",
      "source": [
        "print(\"The value of the ground state is:\",min_eig_val)\n",
        "print(\"Its corresponding eigenvector is:\",min_eig_vec)\n",
        "print(\"The vector corresponding to the ground state is:\",ground_state)"
      ],
      "metadata": {
        "colab": {
          "base_uri": "https://localhost:8080/"
        },
        "id": "W17uj5L3DJOB",
        "outputId": "a87e2ea3-ca56-45d2-c5bb-3e00ec279368"
      },
      "execution_count": null,
      "outputs": [
        {
          "output_type": "stream",
          "name": "stdout",
          "text": [
            "The value of the ground state is: 0.9999999999999987\n",
            "Its corresponding eigenvector is: [ 0.40824829 -0.40824829 -0.81649658]\n",
            "The vector corresponding to the ground state is: [ 0.33920696 -0.33114201 -0.88050191]\n"
          ]
        }
      ]
    }
  ]
}