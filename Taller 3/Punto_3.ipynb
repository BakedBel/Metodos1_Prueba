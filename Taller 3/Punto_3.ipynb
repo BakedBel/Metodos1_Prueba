{
  "nbformat": 4,
  "nbformat_minor": 0,
  "metadata": {
    "colab": {
      "provenance": []
    },
    "kernelspec": {
      "name": "python3",
      "display_name": "Python 3"
    },
    "language_info": {
      "name": "python"
    }
  },
  "cells": [
    {
      "cell_type": "code",
      "execution_count": 1,
      "metadata": {
        "colab": {
          "base_uri": "https://localhost:8080/"
        },
        "id": "lSNU9E6P1MOy",
        "outputId": "f6e74878-34e3-4440-ba17-5978ad5f4157"
      },
      "outputs": [
        {
          "output_type": "stream",
          "name": "stdout",
          "text": [
            "[[ 4. -2.  1.]\n",
            " [20. -7. 12.]\n",
            " [-8. 13. 21.]]\n"
          ]
        }
      ],
      "source": [
        "import numpy as np\n",
        "import matplotlib.pyplot as plt\n",
        "\n",
        "A=np.array([[1,0,0],[5,1,0],[-2,3,1]])\n",
        "D=np.array([[4,-2,1],[0,3,7],[0,0,2]])\n",
        "\n",
        "def MultiMatricez(A,D):\n",
        "  \n",
        "    M,N=A.shape\n",
        "    J,K=D.shape\n",
        "\n",
        "    \n",
        "    C= np.zeros((M,K))\n",
        "    it=0\n",
        "    fila=0\n",
        "    columna=0\n",
        "      \n",
        "    if N==J: \n",
        "        while it < (M*K): \n",
        "            \n",
        "            suma=0\n",
        "            if fila < M:\n",
        "      \n",
        "                for i in range(J):\n",
        "                    suma += A[fila,i]* D[i,columna]\n",
        "                C[fila,columna]=suma        \n",
        "                columna+=1\n",
        "                \n",
        "            if columna == K:\n",
        "               columna=0\n",
        "               fila+=1                             \n",
        "            it +=1\n",
        "    \n",
        "            \n",
        "    else:\n",
        "        print('el numero de columnas de la primera matriz'/\n",
        "              'debeser igual al numero de filas de la segunda matriz')\n",
        "        \n",
        "    return C\n",
        "\n",
        "\n",
        "print(MultiMatricez(A, D))\n",
        "            "
      ]
    }
  ]
}