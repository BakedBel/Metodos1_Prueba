{
  "nbformat": 4,
  "nbformat_minor": 0,
  "metadata": {
    "colab": {
      "provenance": []
    },
    "kernelspec": {
      "name": "python3",
      "display_name": "Python 3"
    },
    "language_info": {
      "name": "python"
    }
  },
  "cells": [
    {
      "cell_type": "code",
      "execution_count": null,
      "metadata": {
        "id": "TKgZwwCrXqr2"
      },
      "outputs": [],
      "source": [
        " import numpy as np"
      ]
    },
    {
      "cell_type": "code",
      "source": [
        "A = np.array([[4., 1., 1.], [1., 3., 2.], [1.,2.,5.]])"
      ],
      "metadata": {
        "id": "LaDYajmpp6jG"
      },
      "execution_count": null,
      "outputs": []
    },
    {
      "cell_type": "code",
      "source": [
        "def jacobo_el_bobo(A,tolerancia=1e-9,itmax = 1000):\n",
        "  max=A[0][0]\n",
        "  i_=0\n",
        "  j_=0\n",
        "  R= np.zeros_like(A)\n",
        "  H = np.zeros_like(A)\n",
        "  for i in range(len(A)):\n",
        "    for j in range(len(A[0])):\n",
        "      if i != j:\n",
        "        if A[i][j] > max:\n",
        "          max = A[i][j]\n",
        "          i_ = i\n",
        "          j_ = j\n",
        "  if A[i_][i_] == A[j_][j_]:\n",
        "    x = np.pi/4\n",
        "  else:\n",
        "    x = 0.5*np.arctan(2*max/A[i_][i_]*A[j_][j_])  \n",
        "  R[0][0] = np.cos(x)\n",
        "  R[1][1] = np.cos(x)\n",
        "  R[0][1] = -np.sin(x)\n",
        "  R[1][0] = np.sin(x)\n",
        "  R[2][2] = 1\n",
        "  H = np.flip(R)\n",
        "  D = R*A*H\n",
        "  return D\n",
        "\n",
        "o = jacobo_el_bobo(A)"
      ],
      "metadata": {
        "colab": {
          "base_uri": "https://localhost:8080/"
        },
        "id": "MxiZeA3zp-fQ",
        "outputId": "4a956818-5198-4421-f797-e665cb21485a"
      },
      "execution_count": null,
      "outputs": [
        {
          "output_type": "execute_result",
          "data": {
            "text/plain": [
              "(array([6.89510652, 3.39729507, 1.70759841]),\n",
              " array([[ 0.43170413,  0.88573564,  0.17059871],\n",
              "        [ 0.49725362, -0.07589338, -0.86427949],\n",
              "        [ 0.75257583, -0.45794385,  0.47319874]]))"
            ]
          },
          "metadata": {},
          "execution_count": 8
        }
      ]
    },
    {
      "cell_type": "code",
      "source": [
        "def valorp(D,c,itmax=1000,tolerancia=1e-18):\n",
        "  n = D.shape[0]\n",
        "  v0 = np.zeros(n)\n",
        "  v0[c] = 1.        \n",
        "  lambda0 = np.inf  \n",
        "  for k in range(itmax):\n",
        "    v1 = np.dot(A,v0)\n",
        "    lambda1 = v1[0]/v0[0]\n",
        "    v1 = v1/np.linalg.norm(v1) \n",
        "    if np.abs(lambda0 - lambda1) <= tolerancia:\n",
        "        break\n",
        "    lambda0 = lambda1\n",
        "    v0 = v1\n",
        "                 \n",
        "  return lambda0,v0"
      ],
      "metadata": {
        "id": "KC6SYkrPqSjU"
      },
      "execution_count": null,
      "outputs": []
    },
    {
      "cell_type": "code",
      "source": [
        "def Tensor(v):\n",
        "    \n",
        "    n = v.shape[0]\n",
        "    T = np.zeros((n,n))\n",
        "    \n",
        "    for i in range(n):\n",
        "        for j in range(n):\n",
        "            T[i,j] = v[i]*v[j]\n",
        "    \n",
        "    return T"
      ],
      "metadata": {
        "id": "BvZSBtBGqvTh"
      },
      "execution_count": null,
      "outputs": []
    },
    {
      "cell_type": "code",
      "source": [
        "def GetEigValues(A):\n",
        "    \n",
        "    A1 = A.copy()\n",
        "    \n",
        "    values = np.zeros(A1.shape[0])\n",
        "    vectors = np.zeros_like(A1)\n",
        "    \n",
        "    for i in range(A.shape[0]):\n",
        "        \n",
        "        l,v = valorp(A1,i) \n",
        "        \n",
        "        values[i] = l\n",
        "        vectors[:,i] = v\n",
        "        B = A1 - l*Tensor(v)\n",
        "        A1 = B\n",
        "        \n",
        "    return values,vectors"
      ],
      "metadata": {
        "id": "Lm969VlnqoBO"
      },
      "execution_count": null,
      "outputs": []
    },
    {
      "cell_type": "code",
      "source": [
        "  y = GetEigValues(o)\n",
        "  y"
      ],
      "metadata": {
        "colab": {
          "base_uri": "https://localhost:8080/"
        },
        "id": "xqaWC4IirTeW",
        "outputId": "f444d75d-360f-4489-b7eb-ce45a2734144"
      },
      "execution_count": null,
      "outputs": [
        {
          "output_type": "stream",
          "name": "stderr",
          "text": [
            "<ipython-input-11-94a5bd9201d0>:8: RuntimeWarning: divide by zero encountered in double_scalars\n",
            "  lambda1 = v1[0]/v0[0]\n",
            "<ipython-input-11-94a5bd9201d0>:10: RuntimeWarning: invalid value encountered in double_scalars\n",
            "  if np.abs(lambda0 - lambda1) <= tolerancia:\n"
          ]
        },
        {
          "output_type": "execute_result",
          "data": {
            "text/plain": [
              "(array([6.89510652, 6.89510652, 6.89510652]),\n",
              " array([[0.43170413, 0.43170413, 0.43170413],\n",
              "        [0.49725362, 0.49725362, 0.49725362],\n",
              "        [0.75257583, 0.75257583, 0.75257583]]))"
            ]
          },
          "metadata": {},
          "execution_count": 14
        }
      ]
    },
    {
      "cell_type": "code",
      "source": [
        "np.linalg.eig(A)"
      ],
      "metadata": {
        "colab": {
          "base_uri": "https://localhost:8080/"
        },
        "id": "ronHDAgRtwp3",
        "outputId": "b5c06576-05c1-4fc0-f57b-9c8cf37cc32f"
      },
      "execution_count": null,
      "outputs": [
        {
          "output_type": "execute_result",
          "data": {
            "text/plain": [
              "(array([6.89510652, 3.39729507, 1.70759841]),\n",
              " array([[ 0.43170413,  0.88573564,  0.17059871],\n",
              "        [ 0.49725362, -0.07589338, -0.86427949],\n",
              "        [ 0.75257583, -0.45794385,  0.47319874]]))"
            ]
          },
          "metadata": {},
          "execution_count": 66
        }
      ]
    }
  ]
}