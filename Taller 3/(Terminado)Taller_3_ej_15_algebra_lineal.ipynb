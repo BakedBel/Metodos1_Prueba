{
  "nbformat": 4,
  "nbformat_minor": 0,
  "metadata": {
    "colab": {
      "provenance": []
    },
    "kernelspec": {
      "name": "python3",
      "display_name": "Python 3"
    },
    "language_info": {
      "name": "python"
    }
  },
  "cells": [
    {
      "cell_type": "code",
      "execution_count": null,
      "metadata": {
        "id": "Sd0Ex44Uacve"
      },
      "outputs": [],
      "source": [
        "import sympy"
      ]
    },
    {
      "cell_type": "code",
      "source": [
        "i =  sympy.Symbol('i',real=False)\n",
        "m0 = sympy.matrices.Matrix([[1,0,0,0],[0,1,0,0],[0,0,-1,0],[0,0,0,-1]])\n",
        "m1 = sympy.matrices.Matrix([[0,0,0,1],[0,0,1,0],[0,-1,0,0],[-1,0,0,0]])\n",
        "m2 = sympy.matrices.Matrix([[0,0,0,-i],[0,0,i,0],[0,i,0,0],[-i,0,0,0]])\n",
        "m3 = sympy.matrices.Matrix([[0,0,1,0],[0,0,0,-1],[-1,0,0,0],[0,1,0,0]])"
      ],
      "metadata": {
        "id": "zK6kx6JphSQR"
      },
      "execution_count": null,
      "outputs": []
    },
    {
      "cell_type": "code",
      "source": [
        "m0"
      ],
      "metadata": {
        "colab": {
          "base_uri": "https://localhost:8080/",
          "height": 98
        },
        "id": "_xiWDOp-iK6D",
        "outputId": "23679af8-f541-412e-e12f-520324fc96ad"
      },
      "execution_count": null,
      "outputs": [
        {
          "output_type": "execute_result",
          "data": {
            "text/plain": [
              "Matrix([\n",
              "[1, 0,  0,  0],\n",
              "[0, 1,  0,  0],\n",
              "[0, 0, -1,  0],\n",
              "[0, 0,  0, -1]])"
            ],
            "text/latex": "$\\displaystyle \\left[\\begin{matrix}1 & 0 & 0 & 0\\\\0 & 1 & 0 & 0\\\\0 & 0 & -1 & 0\\\\0 & 0 & 0 & -1\\end{matrix}\\right]$"
          },
          "metadata": {},
          "execution_count": 12
        }
      ]
    },
    {
      "cell_type": "code",
      "source": [
        "q,w,e,r = ((m0*m1+m1*m0),(m0*m2+m2*m0),(m0*m3+m3*m0),(m0*m0+m0*m0))\n",
        "\n",
        "q,w,e,r"
      ],
      "metadata": {
        "colab": {
          "base_uri": "https://localhost:8080/"
        },
        "id": "r7k7J0AAibOq",
        "outputId": "6410133a-9793-495f-a3d4-aa4adbf3b5ae"
      },
      "execution_count": null,
      "outputs": [
        {
          "output_type": "execute_result",
          "data": {
            "text/plain": [
              "(Matrix([\n",
              " [0, 0, 0, 0],\n",
              " [0, 0, 0, 0],\n",
              " [0, 0, 0, 0],\n",
              " [0, 0, 0, 0]]),\n",
              " Matrix([\n",
              " [0, 0, 0, 0],\n",
              " [0, 0, 0, 0],\n",
              " [0, 0, 0, 0],\n",
              " [0, 0, 0, 0]]),\n",
              " Matrix([\n",
              " [0, 0, 0, 0],\n",
              " [0, 0, 0, 0],\n",
              " [0, 0, 0, 0],\n",
              " [0, 0, 0, 0]]),\n",
              " Matrix([\n",
              " [2, 0, 0, 0],\n",
              " [0, 2, 0, 0],\n",
              " [0, 0, 2, 0],\n",
              " [0, 0, 0, 2]]))"
            ]
          },
          "metadata": {},
          "execution_count": 15
        }
      ]
    },
    {
      "cell_type": "code",
      "source": [
        "t,y,u = ((m1*m2+m2*m1),(m1*m3+m3*m1),(m1*m1+m1*m1))\n",
        "\n",
        "t,y,u"
      ],
      "metadata": {
        "colab": {
          "base_uri": "https://localhost:8080/"
        },
        "id": "712-t3UhkgU-",
        "outputId": "1320d6b9-3c96-4284-ff7c-f3dd76a17344"
      },
      "execution_count": null,
      "outputs": [
        {
          "output_type": "execute_result",
          "data": {
            "text/plain": [
              "(Matrix([\n",
              " [0, 0, 0, 0],\n",
              " [0, 0, 0, 0],\n",
              " [0, 0, 0, 0],\n",
              " [0, 0, 0, 0]]),\n",
              " Matrix([\n",
              " [0, 0, 0, 0],\n",
              " [0, 0, 0, 0],\n",
              " [0, 0, 0, 0],\n",
              " [0, 0, 0, 0]]),\n",
              " Matrix([\n",
              " [-2,  0,  0,  0],\n",
              " [ 0, -2,  0,  0],\n",
              " [ 0,  0, -2,  0],\n",
              " [ 0,  0,  0, -2]]))"
            ]
          },
          "metadata": {},
          "execution_count": 16
        }
      ]
    },
    {
      "cell_type": "code",
      "source": [
        "t,y = ((m2*m3+m3*m2),(m2*m2+m2*m2))\n",
        "\n",
        "t,y"
      ],
      "metadata": {
        "colab": {
          "base_uri": "https://localhost:8080/"
        },
        "id": "iizD_o0DkhBN",
        "outputId": "676ed251-782a-414f-f14b-3a478cdd0220"
      },
      "execution_count": null,
      "outputs": [
        {
          "output_type": "execute_result",
          "data": {
            "text/plain": [
              "(Matrix([\n",
              " [0, 0, 0, 0],\n",
              " [0, 0, 0, 0],\n",
              " [0, 0, 0, 0],\n",
              " [0, 0, 0, 0]]),\n",
              " Matrix([\n",
              " [2*i**2,      0,      0,      0],\n",
              " [     0, 2*i**2,      0,      0],\n",
              " [     0,      0, 2*i**2,      0],\n",
              " [     0,      0,      0, 2*i**2]]))"
            ]
          },
          "metadata": {},
          "execution_count": 17
        }
      ]
    },
    {
      "cell_type": "code",
      "source": [
        "o = (m3*m3+m3*m3)\n",
        "o"
      ],
      "metadata": {
        "colab": {
          "base_uri": "https://localhost:8080/",
          "height": 98
        },
        "id": "G6DlIS2OkhhU",
        "outputId": "439e920c-4a30-4581-c67b-2cc97a7fdc9c"
      },
      "execution_count": null,
      "outputs": [
        {
          "output_type": "execute_result",
          "data": {
            "text/plain": [
              "Matrix([\n",
              "[-2,  0,  0,  0],\n",
              "[ 0, -2,  0,  0],\n",
              "[ 0,  0, -2,  0],\n",
              "[ 0,  0,  0, -2]])"
            ],
            "text/latex": "$\\displaystyle \\left[\\begin{matrix}-2 & 0 & 0 & 0\\\\0 & -2 & 0 & 0\\\\0 & 0 & -2 & 0\\\\0 & 0 & 0 & -2\\end{matrix}\\right]$"
          },
          "metadata": {},
          "execution_count": 18
        }
      ]
    }
  ]
}