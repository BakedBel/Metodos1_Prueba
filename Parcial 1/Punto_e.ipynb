{
  "nbformat": 4,
  "nbformat_minor": 0,
  "metadata": {
    "colab": {
      "provenance": []
    },
    "kernelspec": {
      "name": "python3",
      "display_name": "Python 3"
    },
    "language_info": {
      "name": "python"
    }
  },
  "cells": [
    {
      "cell_type": "code",
      "execution_count": 12,
      "metadata": {
        "colab": {
          "base_uri": "https://localhost:8080/"
        },
        "id": "6tPYkhEV6uh6",
        "outputId": "82eb566b-1135-4f4a-9e06-bf6a72a46acc"
      },
      "outputs": [
        {
          "output_type": "stream",
          "name": "stdout",
          "text": [
            "False\n"
          ]
        }
      ],
      "source": [
        "import math\n",
        "\n",
        "def ley_snell(n1, n2):\n",
        "    refraction = math.asin((1/n2) * (1/n1))\n",
        "    incidence = math.sin(1/n1)\n",
        "    u = True \n",
        "    if (n2/n1) == (math.sin(incidence)/math.sin(refraction)):\n",
        "      u = True \n",
        "\n",
        "    else: \n",
        "      u= False\n",
        "    return u\n",
        "\n",
        "\n",
        "\n",
        "print(ley_snell(1,1.33))"
      ]
    }
  ]
}