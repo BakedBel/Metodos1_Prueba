{
  "nbformat": 4,
  "nbformat_minor": 0,
  "metadata": {
    "colab": {
      "provenance": []
    },
    "kernelspec": {
      "name": "python3",
      "display_name": "Python 3"
    },
    "language_info": {
      "name": "python"
    }
  },
  "cells": [
    {
      "cell_type": "code",
      "execution_count": 4,
      "metadata": {
        "colab": {
          "base_uri": "https://localhost:8080/"
        },
        "id": "6tPYkhEV6uh6",
        "outputId": "a79b4100-e037-4d39-8cf9-4a97976ec2ac"
      },
      "outputs": [
        {
          "output_type": "stream",
          "name": "stdout",
          "text": [
            "(48.21273601220948, 39.24849231944607)\n"
          ]
        }
      ],
      "source": [
        "import math\n",
        "\n",
        "def snell_angle(n1, n2):\n",
        "    refraction = math.asin((1/n2) * math.sin(1/n1))\n",
        "    incidence = math.sin(1/n1)\n",
        "    return math.degrees(incidence), math.degrees(refraction)\n",
        "\n",
        "\n",
        "\n",
        "print(snell_angle(1,1.33))"
      ]
    }
  ]
}