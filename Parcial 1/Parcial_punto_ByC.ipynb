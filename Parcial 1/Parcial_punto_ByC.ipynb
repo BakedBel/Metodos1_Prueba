{
  "nbformat": 4,
  "nbformat_minor": 0,
  "metadata": {
    "colab": {
      "provenance": []
    },
    "kernelspec": {
      "name": "python3",
      "display_name": "Python 3"
    },
    "language_info": {
      "name": "python"
    }
  },
  "cells": [
    {
      "cell_type": "code",
      "execution_count": 15,
      "metadata": {
        "id": "OScaNSL_6fYB"
      },
      "outputs": [],
      "source": [
        "import numpy as np\n",
        "import matplotlib.pyplot as plt\n",
        "from matplotlib import rc\n",
        "import pandas as pd\n",
        "import sympy as sym\n",
        "import os.path as path"
      ]
    },
    {
      "cell_type": "code",
      "source": [
        "Transmisor = np.array([-3,2])\n",
        "Receptor = np.array([2,-2])\n",
        "def tiempo(t,r,x,n1=1,n2=1.33):\n",
        "    b = (x-t[0])**2\n",
        "    v = t[1]**2\n",
        "    n = (x-r[0])**2\n",
        "    m = r[1]**2\n",
        "    T = n1*(b+v)**(1/2)+n2*(n+m)**(1/2)\n",
        "    return T\n",
        "x = np.linspace(-5,5,500)\n",
        "t = tiempo(Transmisor,Receptor,x)\n",
        "plt.plot(x,t)"
      ],
      "metadata": {
        "colab": {
          "base_uri": "https://localhost:8080/",
          "height": 282
        },
        "id": "-WG1z5ynLtUj",
        "outputId": "d396f12f-62a1-4d4b-bf08-6131c509765b"
      },
      "execution_count": 16,
      "outputs": [
        {
          "output_type": "execute_result",
          "data": {
            "text/plain": [
              "[<matplotlib.lines.Line2D at 0x7fcf0e2e8490>]"
            ]
          },
          "metadata": {},
          "execution_count": 16
        },
        {
          "output_type": "display_data",
          "data": {
            "text/plain": [
              "<Figure size 432x288 with 1 Axes>"
            ],
            "image/png": "[encoded data removed]"
          },
          "metadata": {
            "needs_background": "light"
          }
        }
      ]
    },
    {
      "cell_type": "code",
      "source": [
        "def Derivative(f,x,t,r,h=1e-4):\n",
        "   #print (x)\n",
        "    return (f(t,r,x+h)-f(t,r,x-h))/(2*h)\n",
        "def Second (f,x,t,r,h=1e-4):\n",
        "   #print(x)\n",
        "    a = f(t,r,x+h)\n",
        "    b = f(t,r,x)\n",
        "    c = f(t,r,x-h)\n",
        "    return (a-2*b+c)/(h**2)"
      ],
      "metadata": {
        "id": "RzK-4VZxLvWX"
      },
      "execution_count": 26,
      "outputs": []
    },
    {
      "cell_type": "code",
      "source": [
        "def GetNewtonRaphson(f,df,dff,xn,t,r,itmax = 100, precision=1e-5):\n",
        "    \n",
        "    error = 1\n",
        "    it = 0\n",
        "    \n",
        "    while error > precision and it <= itmax:\n",
        "        \n",
        "        try:\n",
        "            \n",
        "            xn1 = xn - df(f,xn,t,r)/dff(f,xn,t,r)\n",
        "            error = np.abs(df(f,xn,t,r)/dff(f,xn,t,r))\n",
        "            \n",
        "        except ZeroDivisionError:\n",
        "            \n",
        "            print('Division por cero')\n",
        "            \n",
        "        it += 1\n",
        "        xn = xn1\n",
        "    \n",
        "    if it == itmax:\n",
        "        False\n",
        "    else:\n",
        "        return xn"
      ],
      "metadata": {
        "id": "5KKFvfVR6wZf"
      },
      "execution_count": 29,
      "outputs": []
    },
    {
      "cell_type": "code",
      "source": [
        "e = GetNewtonRaphson(tiempo,Derivative,Second,0.5,Transmisor,Receptor)\n",
        "e"
      ],
      "metadata": {
        "colab": {
          "base_uri": "https://localhost:8080/"
        },
        "id": "uT1QZW3XL0dW",
        "outputId": "23904116-8e90-4077-d0a3-174577463328"
      },
      "execution_count": 30,
      "outputs": [
        {
          "output_type": "execute_result",
          "data": {
            "text/plain": [
              "0.31690575636706664"
            ]
          },
          "metadata": {},
          "execution_count": 30
        }
      ]
    },
    {
      "cell_type": "code",
      "source": [],
      "metadata": {
        "id": "8oqrHQlQMVY8"
      },
      "execution_count": null,
      "outputs": []
    }
  ]
}