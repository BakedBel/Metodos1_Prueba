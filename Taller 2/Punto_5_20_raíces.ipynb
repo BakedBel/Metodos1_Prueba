{
  "nbformat": 4,
  "nbformat_minor": 0,
  "metadata": {
    "colab": {
      "provenance": []
    },
    "kernelspec": {
      "name": "python3",
      "display_name": "Python 3"
    },
    "language_info": {
      "name": "python"
    }
  },
  "cells": [
    {
      "cell_type": "code",
      "source": [
        "import numpy as np\n",
        "import matplotlib.pyplot as plt\n",
        "from matplotlib import rc\n",
        "import sympy as sym"
      ],
      "metadata": {
        "id": "NJbA9ySaA-QX"
      },
      "execution_count": 2,
      "outputs": []
    },
    {
      "cell_type": "code",
      "source": [
        "def PolinomiosLaguerre(n):\n",
        "    \n",
        "    x = sym.Symbol('x',Real=True)\n",
        "    y = sym.Symbol('y',Real=True)\n",
        "    y = ((np.e**-x*x**n))\n",
        "    p = sym.diff(y,x,n)*(np.e**x/(np.math.factorial(n)))\n",
        "    return p\n",
        "\n",
        "def GetNewtonMethod(f,df,xn,itmax = 100000, precision=1e-12):\n",
        "    error = 1\n",
        "    it = 0\n",
        "    \n",
        "    while error > precision and it < itmax:\n",
        "        \n",
        "        try:\n",
        "            xn1 = xn - f(xn)/df(xn)\n",
        "            error = np.abs(f(xn)/df(xn))\n",
        "\n",
        "        except ZeroDivisionError:\n",
        "            print(\"zero division\")    \n",
        "        xn  = xn1\n",
        "        it += 1\n",
        "        \n",
        "    if it == itmax:\n",
        "        return False\n",
        "    else:\n",
        "        return xn\n",
        "\n",
        "def GetAllRoots(f,df,x, tolerancia=9):\n",
        "    \n",
        "    Roots = np.array([])\n",
        "    for i in x:\n",
        "        root = GetNewtonMethod(f,df,i)\n",
        "          \n",
        "        if root != False:\n",
        "            croot = np.round( root, tolerancia ) \n",
        "            \n",
        "            if croot not in Roots:\n",
        "                Roots = np.append( Roots, croot )\n",
        "\n",
        "    Roots.sort()\n",
        "    \n",
        "    return Roots               "
      ],
      "metadata": {
        "id": "CqLIbi9QA_q7"
      },
      "execution_count": 3,
      "outputs": []
    },
    {
      "cell_type": "code",
      "source": [
        "\n",
        "\n",
        "def GetRootsPolynomial(n,xi,poly,dpoly):\n",
        "    \n",
        "    x = sym.Symbol('x',Real=True)\n",
        "    \n",
        "    pn = sym.lambdify([x],poly[n],'numpy')\n",
        "    dpn = sym.lambdify([x],dpoly[n],'numpy')\n",
        "    Roots = GetAllRoots(pn,dpn,xi,tolerancia=8)\n",
        "    \n",
        "    return Roots\n",
        "\n",
        "polinomios = []\n",
        "derivadas = []\n",
        "\n",
        "x = sym.Symbol('x',Real=True)\n",
        "n=20\n",
        "\n",
        "for i in range(n+1):\n",
        "    \n",
        "    pol = PolinomiosLaguerre(i)\n",
        "    \n",
        "    polinomios.append(pol)\n",
        "    derivadas.append(sym.diff(pol,x,1))\n",
        "\n",
        "\n",
        "xi=np.linspace(0,100,1000)\n",
        "for j in range(1,21):\n",
        "    \n",
        "    raices=GetRootsPolynomial(j,xi,polinomios,derivadas)\n",
        "    \n",
        "    print('el polinomio '+str(j)+' tiene las raíces ', raices)\n"
      ],
      "metadata": {
        "id": "KEDhTXdrBFLP",
        "colab": {
          "base_uri": "https://localhost:8080/",
          "height": 797
        },
        "outputId": "0ae1fcd5-a0f8-4eda-b030-f59c75d822be"
      },
      "execution_count": 5,
      "outputs": [
        {
          "output_type": "stream",
          "name": "stdout",
          "text": [
            "el polinomio1 tiene las raíces  [1.] 1\n",
            "el polinomio2 tiene las raíces  [0.58578644 3.41421356] 2\n",
            "el polinomio3 tiene las raíces  [0.41577456 2.29428036 6.28994508] 3\n",
            "el polinomio4 tiene las raíces  [0.32254769 1.7457611  4.5366203  9.39507091] 4\n",
            "el polinomio5 tiene las raíces  [ 0.26356032  1.41340306  3.59642577  7.08581001 12.64080084] 5\n",
            "el polinomio6 tiene las raíces  [ 0.2228466   1.1889321   2.99273633  5.77514357  9.83746742 15.98287398] 6\n",
            "el polinomio7 tiene las raíces  [ 0.19304368  1.0266649   2.56787674  4.90035308  8.18215344 12.73418029\n",
            " 19.39572786] 7\n",
            "el polinomio8 tiene las raíces  [ 0.17027963  0.90370178  2.25108663  4.26670017  7.0459054  10.75851601\n",
            " 15.74067864 22.86313174] 8\n",
            "el polinomio9 tiene las raíces  [ 0.15232223  0.80722002  2.00513516  3.78347397  6.20495678  9.37298525\n",
            " 13.46623691 18.83359779 26.37407189] 9\n",
            "el polinomio10 tiene las raíces  [ 0.13779347  0.72945455  1.8083429   3.4014337   5.55249614  8.33015275\n",
            " 11.84378584 16.27925783 21.99658581 29.92069701] 10\n",
            "el polinomio11 tiene las raíces  [ 0.12579644  0.66541826  1.64715055  3.09113814  5.0292844   7.50988786\n",
            " 10.605951   14.43161376 19.1788574  25.21770934 33.49719285] 11\n",
            "el polinomio12 tiene las raíces  [ 0.11572212  0.61175748  1.51261027  2.83375134  4.59922764  6.84452545\n",
            "  9.62131684 13.00605499 17.11685519 22.15109038 28.48796725 37.09912104] 12\n"
          ]
        },
        {
          "output_type": "error",
          "ename": "KeyboardInterrupt",
          "evalue": "ignored",
          "traceback": [
            "\u001b[0;31m---------------------------------------------------------------------------\u001b[0m",
            "\u001b[0;31mKeyboardInterrupt\u001b[0m                         Traceback (most recent call last)",
            "\u001b[0;32m<ipython-input-5-0ec18f4ba59e>\u001b[0m in \u001b[0;36m<module>\u001b[0;34m\u001b[0m\n\u001b[1;32m     26\u001b[0m \u001b[0;32mfor\u001b[0m \u001b[0mj\u001b[0m \u001b[0;32min\u001b[0m \u001b[0mrange\u001b[0m\u001b[0;34m(\u001b[0m\u001b[0;36m1\u001b[0m\u001b[0;34m,\u001b[0m\u001b[0;36m21\u001b[0m\u001b[0;34m)\u001b[0m\u001b[0;34m:\u001b[0m\u001b[0;34m\u001b[0m\u001b[0;34m\u001b[0m\u001b[0m\n\u001b[1;32m     27\u001b[0m \u001b[0;34m\u001b[0m\u001b[0m\n\u001b[0;32m---> 28\u001b[0;31m     \u001b[0mraices\u001b[0m\u001b[0;34m=\u001b[0m\u001b[0mGetRootsPolynomial\u001b[0m\u001b[0;34m(\u001b[0m\u001b[0mj\u001b[0m\u001b[0;34m,\u001b[0m\u001b[0mxi\u001b[0m\u001b[0;34m,\u001b[0m\u001b[0mpolinomios\u001b[0m\u001b[0;34m,\u001b[0m\u001b[0mderivadas\u001b[0m\u001b[0;34m)\u001b[0m\u001b[0;34m\u001b[0m\u001b[0;34m\u001b[0m\u001b[0m\n\u001b[0m\u001b[1;32m     29\u001b[0m \u001b[0;34m\u001b[0m\u001b[0m\n\u001b[1;32m     30\u001b[0m     \u001b[0mprint\u001b[0m\u001b[0;34m(\u001b[0m\u001b[0;34m'el polinomio'\u001b[0m\u001b[0;34m+\u001b[0m\u001b[0mstr\u001b[0m\u001b[0;34m(\u001b[0m\u001b[0mj\u001b[0m\u001b[0;34m)\u001b[0m\u001b[0;34m+\u001b[0m\u001b[0;34m' tiene las raíces '\u001b[0m\u001b[0;34m,\u001b[0m \u001b[0mraices\u001b[0m\u001b[0;34m,\u001b[0m \u001b[0mlen\u001b[0m\u001b[0;34m(\u001b[0m\u001b[0mraices\u001b[0m\u001b[0;34m)\u001b[0m\u001b[0;34m)\u001b[0m\u001b[0;34m\u001b[0m\u001b[0;34m\u001b[0m\u001b[0m\n",
            "\u001b[0;32m<ipython-input-5-0ec18f4ba59e>\u001b[0m in \u001b[0;36mGetRootsPolynomial\u001b[0;34m(n, xi, poly, dpoly)\u001b[0m\n\u001b[1;32m      5\u001b[0m     \u001b[0mpn\u001b[0m \u001b[0;34m=\u001b[0m \u001b[0msym\u001b[0m\u001b[0;34m.\u001b[0m\u001b[0mlambdify\u001b[0m\u001b[0;34m(\u001b[0m\u001b[0;34m[\u001b[0m\u001b[0mx\u001b[0m\u001b[0;34m]\u001b[0m\u001b[0;34m,\u001b[0m\u001b[0mpoly\u001b[0m\u001b[0;34m[\u001b[0m\u001b[0mn\u001b[0m\u001b[0;34m]\u001b[0m\u001b[0;34m,\u001b[0m\u001b[0;34m'numpy'\u001b[0m\u001b[0;34m)\u001b[0m\u001b[0;34m\u001b[0m\u001b[0;34m\u001b[0m\u001b[0m\n\u001b[1;32m      6\u001b[0m     \u001b[0mdpn\u001b[0m \u001b[0;34m=\u001b[0m \u001b[0msym\u001b[0m\u001b[0;34m.\u001b[0m\u001b[0mlambdify\u001b[0m\u001b[0;34m(\u001b[0m\u001b[0;34m[\u001b[0m\u001b[0mx\u001b[0m\u001b[0;34m]\u001b[0m\u001b[0;34m,\u001b[0m\u001b[0mdpoly\u001b[0m\u001b[0;34m[\u001b[0m\u001b[0mn\u001b[0m\u001b[0;34m]\u001b[0m\u001b[0;34m,\u001b[0m\u001b[0;34m'numpy'\u001b[0m\u001b[0;34m)\u001b[0m\u001b[0;34m\u001b[0m\u001b[0;34m\u001b[0m\u001b[0m\n\u001b[0;32m----> 7\u001b[0;31m     \u001b[0mRoots\u001b[0m \u001b[0;34m=\u001b[0m \u001b[0mGetAllRoots\u001b[0m\u001b[0;34m(\u001b[0m\u001b[0mpn\u001b[0m\u001b[0;34m,\u001b[0m\u001b[0mdpn\u001b[0m\u001b[0;34m,\u001b[0m\u001b[0mxi\u001b[0m\u001b[0;34m,\u001b[0m\u001b[0mtolerancia\u001b[0m\u001b[0;34m=\u001b[0m\u001b[0;36m8\u001b[0m\u001b[0;34m)\u001b[0m\u001b[0;34m\u001b[0m\u001b[0;34m\u001b[0m\u001b[0m\n\u001b[0m\u001b[1;32m      8\u001b[0m \u001b[0;34m\u001b[0m\u001b[0m\n\u001b[1;32m      9\u001b[0m     \u001b[0;32mreturn\u001b[0m \u001b[0mRoots\u001b[0m\u001b[0;34m\u001b[0m\u001b[0;34m\u001b[0m\u001b[0m\n",
            "\u001b[0;32m<ipython-input-3-3efcdf219f80>\u001b[0m in \u001b[0;36mGetAllRoots\u001b[0;34m(f, df, x, tolerancia)\u001b[0m\n\u001b[1;32m     31\u001b[0m     \u001b[0mRoots\u001b[0m \u001b[0;34m=\u001b[0m \u001b[0mnp\u001b[0m\u001b[0;34m.\u001b[0m\u001b[0marray\u001b[0m\u001b[0;34m(\u001b[0m\u001b[0;34m[\u001b[0m\u001b[0;34m]\u001b[0m\u001b[0;34m)\u001b[0m\u001b[0;34m\u001b[0m\u001b[0;34m\u001b[0m\u001b[0m\n\u001b[1;32m     32\u001b[0m     \u001b[0;32mfor\u001b[0m \u001b[0mi\u001b[0m \u001b[0;32min\u001b[0m \u001b[0mx\u001b[0m\u001b[0;34m:\u001b[0m\u001b[0;34m\u001b[0m\u001b[0;34m\u001b[0m\u001b[0m\n\u001b[0;32m---> 33\u001b[0;31m         \u001b[0mroot\u001b[0m \u001b[0;34m=\u001b[0m \u001b[0mGetNewtonMethod\u001b[0m\u001b[0;34m(\u001b[0m\u001b[0mf\u001b[0m\u001b[0;34m,\u001b[0m\u001b[0mdf\u001b[0m\u001b[0;34m,\u001b[0m\u001b[0mi\u001b[0m\u001b[0;34m)\u001b[0m\u001b[0;34m\u001b[0m\u001b[0;34m\u001b[0m\u001b[0m\n\u001b[0m\u001b[1;32m     34\u001b[0m \u001b[0;34m\u001b[0m\u001b[0m\n\u001b[1;32m     35\u001b[0m         \u001b[0;32mif\u001b[0m \u001b[0mroot\u001b[0m \u001b[0;34m!=\u001b[0m \u001b[0;32mFalse\u001b[0m\u001b[0;34m:\u001b[0m\u001b[0;34m\u001b[0m\u001b[0;34m\u001b[0m\u001b[0m\n",
            "\u001b[0;32m<ipython-input-3-3efcdf219f80>\u001b[0m in \u001b[0;36mGetNewtonMethod\u001b[0;34m(f, df, xn, itmax, precision)\u001b[0m\n\u001b[1;32m     14\u001b[0m \u001b[0;34m\u001b[0m\u001b[0m\n\u001b[1;32m     15\u001b[0m         \u001b[0;32mtry\u001b[0m\u001b[0;34m:\u001b[0m\u001b[0;34m\u001b[0m\u001b[0;34m\u001b[0m\u001b[0m\n\u001b[0;32m---> 16\u001b[0;31m             \u001b[0mxn1\u001b[0m \u001b[0;34m=\u001b[0m \u001b[0mxn\u001b[0m \u001b[0;34m-\u001b[0m \u001b[0mf\u001b[0m\u001b[0;34m(\u001b[0m\u001b[0mxn\u001b[0m\u001b[0;34m)\u001b[0m\u001b[0;34m/\u001b[0m\u001b[0mdf\u001b[0m\u001b[0;34m(\u001b[0m\u001b[0mxn\u001b[0m\u001b[0;34m)\u001b[0m\u001b[0;34m\u001b[0m\u001b[0;34m\u001b[0m\u001b[0m\n\u001b[0m\u001b[1;32m     17\u001b[0m             \u001b[0merror\u001b[0m \u001b[0;34m=\u001b[0m \u001b[0mnp\u001b[0m\u001b[0;34m.\u001b[0m\u001b[0mabs\u001b[0m\u001b[0;34m(\u001b[0m\u001b[0mf\u001b[0m\u001b[0;34m(\u001b[0m\u001b[0mxn\u001b[0m\u001b[0;34m)\u001b[0m\u001b[0;34m/\u001b[0m\u001b[0mdf\u001b[0m\u001b[0;34m(\u001b[0m\u001b[0mxn\u001b[0m\u001b[0;34m)\u001b[0m\u001b[0;34m)\u001b[0m\u001b[0;34m\u001b[0m\u001b[0;34m\u001b[0m\u001b[0m\n\u001b[1;32m     18\u001b[0m \u001b[0;34m\u001b[0m\u001b[0m\n",
            "\u001b[0;32m<lambdifygenerated-48>\u001b[0m in \u001b[0;36m_lambdifygenerated\u001b[0;34m(x)\u001b[0m\n\u001b[1;32m      1\u001b[0m \u001b[0;32mdef\u001b[0m \u001b[0m_lambdifygenerated\u001b[0m\u001b[0;34m(\u001b[0m\u001b[0mx\u001b[0m\u001b[0;34m)\u001b[0m\u001b[0;34m:\u001b[0m\u001b[0;34m\u001b[0m\u001b[0;34m\u001b[0m\u001b[0m\n\u001b[0;32m----> 2\u001b[0;31m     \u001b[0;32mreturn\u001b[0m \u001b[0;34m(\u001b[0m\u001b[0;34m-\u001b[0m\u001b[0;36m2.08767569878681e-9\u001b[0m\u001b[0;34m*\u001b[0m\u001b[0mx\u001b[0m\u001b[0;34m**\u001b[0m\u001b[0;36m12\u001b[0m \u001b[0;34m+\u001b[0m \u001b[0;36m3.25677409010742e-7\u001b[0m\u001b[0;34m*\u001b[0m\u001b[0mx\u001b[0m\u001b[0;34m**\u001b[0m\u001b[0;36m11\u001b[0m \u001b[0;34m-\u001b[0m \u001b[0;36m2.1494708994709e-5\u001b[0m\u001b[0;34m*\u001b[0m\u001b[0mx\u001b[0m\u001b[0;34m**\u001b[0m\u001b[0;36m10\u001b[0m \u001b[0;34m+\u001b[0m \u001b[0;36m0.000788139329805996\u001b[0m\u001b[0;34m*\u001b[0m\u001b[0mx\u001b[0m\u001b[0;34m**\u001b[0m\u001b[0;36m9\u001b[0m \u001b[0;34m-\u001b[0m \u001b[0;36m0.0177331349206349\u001b[0m\u001b[0;34m*\u001b[0m\u001b[0mx\u001b[0m\u001b[0;34m**\u001b[0m\u001b[0;36m8\u001b[0m \u001b[0;34m+\u001b[0m \u001b[0;36m0.255357142857143\u001b[0m\u001b[0;34m*\u001b[0m\u001b[0mx\u001b[0m\u001b[0;34m**\u001b[0m\u001b[0;36m7\u001b[0m \u001b[0;34m-\u001b[0m \u001b[0;36m2.38333333333333\u001b[0m\u001b[0;34m*\u001b[0m\u001b[0mx\u001b[0m\u001b[0;34m**\u001b[0m\u001b[0;36m6\u001b[0m \u001b[0;34m+\u001b[0m \u001b[0;36m14.3\u001b[0m\u001b[0;34m*\u001b[0m\u001b[0mx\u001b[0m\u001b[0;34m**\u001b[0m\u001b[0;36m5\u001b[0m \u001b[0;34m-\u001b[0m \u001b[0;36m53.625\u001b[0m\u001b[0;34m*\u001b[0m\u001b[0mx\u001b[0m\u001b[0;34m**\u001b[0m\u001b[0;36m4\u001b[0m \u001b[0;34m+\u001b[0m \u001b[0;36m119.166666666667\u001b[0m\u001b[0;34m*\u001b[0m\u001b[0mx\u001b[0m\u001b[0;34m**\u001b[0m\u001b[0;36m3\u001b[0m \u001b[0;34m-\u001b[0m \u001b[0;36m143.0\u001b[0m\u001b[0;34m*\u001b[0m\u001b[0mx\u001b[0m\u001b[0;34m**\u001b[0m\u001b[0;36m2\u001b[0m \u001b[0;34m+\u001b[0m \u001b[0;36m78.0\u001b[0m\u001b[0;34m*\u001b[0m\u001b[0mx\u001b[0m \u001b[0;34m-\u001b[0m \u001b[0;36m13.0\u001b[0m\u001b[0;34m)\u001b[0m\u001b[0;34m\u001b[0m\u001b[0;34m\u001b[0m\u001b[0m\n\u001b[0m",
            "\u001b[0;31mKeyboardInterrupt\u001b[0m: "
          ]
        }
      ]
    }
  ]
}