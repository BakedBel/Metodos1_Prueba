{
  "nbformat": 4,
  "nbformat_minor": 0,
  "metadata": {
    "colab": {
      "provenance": []
    },
    "kernelspec": {
      "name": "python3",
      "display_name": "Python 3"
    },
    "language_info": {
      "name": "python"
    }
  },
  "cells": [
    {
      "cell_type": "code",
      "execution_count": null,
      "metadata": {
        "id": "EdvDE_d9BRei"
      },
      "outputs": [],
      "source": [
        "import numpy as np\n",
        "import sympy \n",
        "import urllib\n",
        "import pandas as pd\n",
        "url = 'https://raw.githubusercontent.com/asegura4488/Database/main/MetodosComputacionalesReforma/Parabolico.csv'\n",
        "data = urllib.request.urlopen(url)\n",
        "\n",
        "Data = pd.read_csv(data,sep=',')"
      ]
    },
    {
      "cell_type": "code",
      "source": [
        "def Lagrange(x,xi,j,n,a):\n",
        "    for i in range(n):\n",
        "        if i != j:\n",
        "            a *= (x - xi[i])/(xi[j]-xi[i])\n",
        "            \n",
        "    return a\n",
        "def funcion(x,xi,yi):\n",
        "    Sum = 0.\n",
        "    n = len(xi)\n",
        "    for j in range(n):\n",
        "        Sum += yi[j]*Lagrange(x,xi,j,len(xi),1)   \n",
        "    return Sum\n",
        "\n",
        "x = sympy.Symbol('x')\n",
        "elx = np.float64(Data['X']) \n",
        "ely = np.float64(Data['Y'])\n",
        "todo = sympy.expand(funcion(x,elx,ely))\n",
        "\n",
        "a=float(todo.coeff(x,2))\n",
        "df= sympy.diff(todo)\n",
        "\n",
        "theta = float(df.coeff(x,0))\n",
        "\n",
        "velocidad=float(np.sqrt(np.abs( 9.82 / ( a*2*(np.cos(theta)**2) ) )))\n",
        "\n",
        "angulo=(theta*180)/np.pi\n",
        "\n",
        "print(\"la velocidad es \"+str(velocidad),\"y el angulo es \"+str(angulo))"
      ],
      "metadata": {
        "colab": {
          "base_uri": "https://localhost:8080/"
        },
        "id": "gcwnRaUjBeNh",
        "outputId": "64a429d7-ec3c-4776-a4a4-b83908c7755e"
      },
      "execution_count": null,
      "outputs": [
        {
          "output_type": "stream",
          "name": "stdout",
          "text": [
            "la velocidad es 10.065919983925623 y el angulo es 20.853958291841245\n"
          ]
        }
      ]
    }
  ]
}