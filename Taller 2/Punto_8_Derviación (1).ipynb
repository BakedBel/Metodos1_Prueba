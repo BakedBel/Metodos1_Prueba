{
  "nbformat": 4,
  "nbformat_minor": 0,
  "metadata": {
    "colab": {
      "provenance": []
    },
    "kernelspec": {
      "name": "python3",
      "display_name": "Python 3"
    },
    "language_info": {
      "name": "python"
    }
  },
  "cells": [
    {
      "cell_type": "code",
      "execution_count": 1,
      "metadata": {
        "id": "SAhLPvaLHQkj"
      },
      "outputs": [],
      "source": [
        "import numpy as np\n",
        "import matplotlib.pyplot as plt"
      ]
    },
    {
      "cell_type": "code",
      "source": [
        "'Punto C y D'\n",
        "tangente= lambda x: (np.tan(x))**0.5\n",
        "\n",
        "derivada_tan= lambda x: (1/(np.cos(x))**2)/(2*((np.tan(x))**0.5))\n",
        "\n",
        "intervalo=np.linspace(0.1,1.1,100)\n",
        "\n",
        "h= intervalo[1]-intervalo[0]\n",
        "\n",
        "def derivadah2(x,f,h):\n",
        "    \n",
        "    derivada= (1/2*h*10000)*((-3*f(x))+ (4*f(x + h))- (f(x + 2*h)))\n",
        "    \n",
        "    return derivada\n",
        "\n",
        "\n",
        "def DerivativeC(x,f,h):\n",
        "    \n",
        "    return (f(x+h)-f(x-h))/(2*h)\n",
        "\n",
        "\n",
        "derivadap= derivadah2(intervalo,tangente,h)\n",
        "derivadac= DerivativeC(intervalo,tangente,h)\n",
        "derivada_tan2=derivada_tan(intervalo)\n",
        "plt.scatter(intervalo,derivadap)\n",
        "plt.scatter(intervalo,derivadac)"
      ],
      "metadata": {
        "id": "6VXhdPejHVoi",
        "colab": {
          "base_uri": "https://localhost:8080/",
          "height": 284
        },
        "outputId": "9a4c4abd-e6a4-4668-e000-96d35ae8a210"
      },
      "execution_count": 7,
      "outputs": [
        {
          "output_type": "execute_result",
          "data": {
            "text/plain": [
              "<matplotlib.collections.PathCollection at 0x7f3ccd542400>"
            ]
          },
          "metadata": {},
          "execution_count": 7
        },
        {
          "output_type": "display_data",
          "data": {
            "text/plain": [
              "<Figure size 432x288 with 1 Axes>"
            ],
            "image/png": "[encoded data removed]"
          },
          "metadata": {
            "needs_background": "light"
          }
        }
      ]
    },
    {
      "cell_type": "code",
      "source": [
        "'Punto F'\n",
        "def error(funcion1,funcion2):\n",
        "    diferencia=[]\n",
        "    for i in range(len(funcion1)):\n",
        "        \n",
        "        error= abs(funcion1[i]-funcion2[i])\n",
        "        \n",
        "        diferencia.append(error)\n",
        "        \n",
        "    return diferencia\n",
        "\n",
        "\n",
        "error_nodal_progresiva=error(derivadap,derivada_tan2)\n",
        "error_nodal_central=error(derivadac,derivada_tan2)\n",
        "fig=plt.figure(figsize=(6,5))\n",
        "\n",
        "\n",
        "ax1=fig.add_subplot(1,3,1)\n",
        "ax1.scatter(intervalo,derivadap)\n",
        "ax2=fig.add_subplot(1,3,2)\n",
        "ax2.scatter(intervalo,derivadac)\n",
        "\n",
        "plt.show"
      ],
      "metadata": {
        "id": "Y_AlJ3_PHZiB",
        "colab": {
          "base_uri": "https://localhost:8080/",
          "height": 337
        },
        "outputId": "dc9cf8a5-9ed5-42cf-abdb-f7bf0e1bf528"
      },
      "execution_count": 6,
      "outputs": [
        {
          "output_type": "execute_result",
          "data": {
            "text/plain": [
              "<function matplotlib.pyplot.show(close=None, block=None)>"
            ]
          },
          "metadata": {},
          "execution_count": 6
        },
        {
          "output_type": "display_data",
          "data": {
            "text/plain": [
              "<Figure size 432x360 with 2 Axes>"
            ],
            "image/png": "[encoded data removed]"
          },
          "metadata": {
            "needs_background": "light"
          }
        }
      ]
    }
  ]
}