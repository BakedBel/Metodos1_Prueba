{
  "nbformat": 4,
  "nbformat_minor": 0,
  "metadata": {
    "colab": {
      "provenance": []
    },
    "kernelspec": {
      "name": "python3",
      "display_name": "Python 3"
    },
    "language_info": {
      "name": "python"
    }
  },
  "cells": [
    {
      "cell_type": "code",
      "execution_count": 2,
      "metadata": {
        "id": "Le04c5SsBqkx"
      },
      "outputs": [],
      "source": [
        "import numpy as np\n",
        "import sympy as sym\n",
        "import matplotlib.pyplot as plt"
      ]
    },
    {
      "cell_type": "code",
      "source": [
        "def PolinomiosLaguerre(n):\n",
        "    \n",
        "    x = sym.Symbol('x',Real=True)\n",
        "    y = sym.Symbol('y',Real=True)\n",
        "    y = ((np.e**-x*x**n))\n",
        "    p = sym.diff(y,x,n)*(np.e**x/(np.math.factorial(n)))\n",
        "    return p\n",
        "\n",
        "def GetNewtonMethod(f,df,xn,itmax = 100000, precision=1e-12):\n",
        "    error = 1\n",
        "    it = 0\n",
        "    \n",
        "    while error > precision and it < itmax:\n",
        "        \n",
        "        try:\n",
        "            xn1 = xn - f(xn)/df(xn)\n",
        "            error = np.abs(f(xn)/df(xn))\n",
        "\n",
        "        except ZeroDivisionError:\n",
        "            print(\"zero division\")    \n",
        "        xn  = xn1\n",
        "        it += 1\n",
        "        \n",
        "    if it == itmax:\n",
        "        return False\n",
        "    else:\n",
        "        return xn\n",
        "\n",
        "def GetAllRoots(f,df,x, tolerancia=9):\n",
        "    \n",
        "    Roots = np.array([])\n",
        "    for i in x:\n",
        "        root = GetNewtonMethod(f,df,i)\n",
        "          \n",
        "        if root != False:\n",
        "            croot = np.round( root, tolerancia ) \n",
        "            \n",
        "            if croot not in Roots:\n",
        "                Roots = np.append( Roots, croot )\n",
        "\n",
        "    Roots.sort()\n",
        "    \n",
        "    return Roots\n",
        "\n",
        "def GetRootsPolynomial(xi,pol,dpol):\n",
        "\n",
        "    x = sym.Symbol('x',Real=True)\n",
        "    \n",
        "    pn = sym.lambdify([x],pol,'numpy')\n",
        "    dpn = sym.lambdify([x],dpol,'numpy')\n",
        "    Roots = GetAllRoots(pn,dpn,xi,tolerancia=8)\n",
        "    \n",
        "    return Roots"
      ],
      "metadata": {
        "id": "Sc5YwUPAB4Sc"
      },
      "execution_count": 3,
      "outputs": []
    },
    {
      "cell_type": "code",
      "source": [
        "\n",
        "def pesosLaguerre(puntos):\n",
        "    \n",
        "    xi=np.linspace(0,100,1000)\n",
        "    x = sym.Symbol('x',Real=True)\n",
        "    pesos= []\n",
        "\n",
        "    ln=PolinomiosLaguerre(puntos+1)\n",
        "    ln2=PolinomiosLaguerre(puntos)\n",
        "    lnx = sym.lambdify([x],ln2,'numpy')  \n",
        "    dln=sym.diff(ln,x)\n",
        "    \n",
        "    \n",
        "    xi=np.linspace(0,100,1000)\n",
        "    raices= GetRootsPolynomial(xi, ln, dln)\n",
        "    \n",
        "    \n",
        "    for i in raices:\n",
        "    \n",
        "        weight= i/((puntos+1)**2 * (lnx(i)**2))\n",
        "        \n",
        "        pesos.append(weight)     \n",
        "    return pesos"
      ],
      "metadata": {
        "id": "_f46Ks6TCJJa"
      },
      "execution_count": 4,
      "outputs": []
    },
    {
      "cell_type": "code",
      "source": [
        "def GausLaguerre(funcion,puntos):\n",
        "    \n",
        "    pesos = pesosLaguerre(puntos)\n",
        "    x = sym.Symbol('x',Real=True)\n",
        "    xi=np.linspace(0,100,1000)              \n",
        "     \n",
        "    f=sym.lambdify([x],funcion,'numpy')\n",
        "    integral=0\n",
        "\n",
        "    \n",
        "    funl=PolinomiosLaguerre(puntos+1)\n",
        "    \n",
        "    dfunl=sym.diff(funl,x)\n",
        "    \n",
        "    raices= GetRootsPolynomial(xi,funl,dfunl)\n",
        "    \n",
        "        \n",
        "    for i in range(len(pesos)):\n",
        "                       \n",
        "        xn=pesos[i]*(f(raices[i]))\n",
        "        \n",
        "        integral += xn\n",
        "        \n",
        "    return integral"
      ],
      "metadata": {
        "id": "22b3yzmsCN7K"
      },
      "execution_count": 5,
      "outputs": []
    },
    {
      "cell_type": "code",
      "source": [
        "x = sym.Symbol('x',Real=True)\n",
        "f= ((x**3)/(np.e**x - 1))* np.e**(x)\n",
        "\n",
        "p=11\n",
        "valores=[]\n",
        "puntos=[]\n",
        "for i in range(1,p):\n",
        "    \n",
        "    derivada=GausLaguerre(f,i)\n",
        "    error=derivada/((np.pi**4)/15)\n",
        "    puntos.append(i)\n",
        "    valores.append(error)\n",
        "    \n",
        "\n",
        "plt.scatter(puntos,valores,color='b')\n",
        "\n",
        "plt.show() "
      ],
      "metadata": {
        "colab": {
          "base_uri": "https://localhost:8080/",
          "height": 265
        },
        "id": "kYxhX0YmCQwl",
        "outputId": "1d0e3362-4da2-48f8-8835-31cbd68e13b6"
      },
      "execution_count": 6,
      "outputs": [
        {
          "output_type": "display_data",
          "data": {
            "text/plain": [
              "<Figure size 432x288 with 1 Axes>"
            ],
            "image/png": "[encoded data removed]"
          },
          "metadata": {
            "needs_background": "light"
          }
        }
      ]
    }
  ]
}