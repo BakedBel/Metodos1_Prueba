{
 "cells": [
  {
   "cell_type": "code",
   "execution_count": 2,
   "id": "7cc4c797",
   "metadata": {
    "id": "7cc4c797"
   },
   "outputs": [],
   "source": [
    "import numpy as np\n",
    "import matplotlib.pyplot as plt\n",
    "from mpl_toolkits.mplot3d import axes3d\n",
    "import sympy as sympy\n",
    "from scipy.integrate import quad\n",
    "from scipy.integrate import dblquad"
   ]
  },
  {
   "cell_type": "code",
   "execution_count": 3,
   "id": "313c28ac",
   "metadata": {
    "id": "313c28ac"
   },
   "outputs": [],
   "source": [
    "def hermite(n,x):\n",
    "    if n%2 ==0:\n",
    "        f = sympy.exp(x**2)*sympy.diff(sympy.exp(-x**2),x,n)\n",
    "    else:\n",
    "        f = -1*sympy.exp(x**2)*sympy.diff(sympy.exp(-x**2),x,n)\n",
    "    return f\n",
    "\n",
    "def derivate (H):\n",
    "    return sympy.diff(H)\n",
    "def GetNewtonRaphson(H,dH,xn,itmax = 100, precision=1e-5):\n",
    "        error = 1\n",
    "        it = 0\n",
    "        while it <= itmax:\n",
    "            try:\n",
    "                xn1 = xn - H.evalf(subs={x:xn})/dH.evalf(subs={x:xn})\n",
    "                error = np.abs(H.evalf(subs={x:xn})/dH.evalf(subs={x:xn}))\n",
    "            except ZeroDivisionError:\n",
    "                print('Division por cero')\n",
    "            it += 1\n",
    "            xn = xn1\n",
    "        if it == itmax:\n",
    "            False\n",
    "        else:\n",
    "            return xn\n",
    "def GetAllRoots(H,dH,x,tolerancia=8):\n",
    "    Roots = np.array([])\n",
    "    for i in x:\n",
    "        root = GetNewtonRaphson(H,dH,i)\n",
    "        root = np.float64(root)\n",
    "        if root != False:\n",
    "            croot = np.round(root, tolerancia)\n",
    "            if croot not in Roots:\n",
    "                Roots = np.append(Roots,croot)\n",
    "    Roots.sort()\n",
    "    R = np.array(Roots)\n",
    "    return R\n"
   ]
  },
  {
   "cell_type": "code",
   "execution_count": 4,
   "id": "07fa4c2c",
   "metadata": {
    "colab": {
     "base_uri": "https://localhost:8080/"
    },
    "id": "07fa4c2c",
    "outputId": "7b0c1760-a5a8-4f1f-f122-fd2a791816d2"
   },
   "outputs": [
    {
     "name": "stdout",
     "output_type": "stream",
     "text": [
      "las raices para el veinteavo polinomio de hermite son [-5.38748089 -4.60368245 -3.94476404 -3.34785457 -2.78880606 -2.254974\n",
      " -1.73853771 -1.23407622 -0.73747373 -0.24534071  0.24534071  0.73747373\n",
      "  1.23407622  1.73853771  2.254974    2.78880606  3.34785457  3.94476404\n",
      "  4.60368245  5.38748089]\n"
     ]
    }
   ],
   "source": [
    "x = sympy.symbols('x')\n",
    "f = hermite(20,x)\n",
    "df = derivate(f)\n",
    "#r = GetNewtonRaphson(f,df,5)\n",
    "#r\n",
    "xn = np.linspace(-10,10,100)\n",
    "r = GetAllRoots(f,df,xn)\n",
    "print(\"las raices para el veinteavo polinomio de hermite son\" ,r)"
   ]
  },
  {
   "cell_type": "code",
   "execution_count": 5,
   "id": "1c6addbd",
   "metadata": {
    "id": "1c6addbd",
    "outputId": "a55b91b0-53b5-4137-eefd-f9a1e56324ce"
   },
   "outputs": [],
   "source": [
    "f = hermite(19,x)\n",
    "Hn = sympy.lambdify(x,f,'numpy')"
   ]
  },
  {
   "cell_type": "code",
   "execution_count": 6,
   "id": "2eaaa91c",
   "metadata": {
    "id": "2eaaa91c"
   },
   "outputs": [],
   "source": [
    "ans = np.zeros(20)\n",
    "def pesos(n,r,Hn):\n",
    "    for i in range(len(r)):\n",
    "        A = 2**(n-1)*np.math.factorial(n)*np.sqrt(np.pi)\n",
    "        B = n**2 * Hn(r[i])**2\n",
    "        ans[i] = A/B\n",
    "    return ans"
   ]
  },
  {
   "cell_type": "code",
   "execution_count": 7,
   "id": "bbf5a0de",
   "metadata": {
    "id": "bbf5a0de",
    "outputId": "1eb7c5eb-b5a0-4d88-b6f9-64403ff7001f"
   },
   "outputs": [
    {
     "name": "stdout",
     "output_type": "stream",
     "text": [
      "los pesos para obtenidos son [2.22939365e-13 4.39934096e-10 1.08606937e-07 7.80255621e-06\n",
      " 2.28338632e-04 3.24377340e-03 2.48105213e-02 1.09017204e-01\n",
      " 2.86675504e-01 4.62243669e-01 4.62243669e-01 2.86675504e-01\n",
      " 1.09017204e-01 2.48105213e-02 3.24377340e-03 2.28338632e-04\n",
      " 7.80255621e-06 1.08606937e-07 4.39934096e-10 2.22939365e-13]\n"
     ]
    }
   ],
   "source": [
    "print(\"los pesos para obtenidos son\" ,pesos(20,r,Hn))"
   ]
  },
  {
   "cell_type": "markdown",
   "id": "9b1c8548",
   "metadata": {
    "id": "9b1c8548"
   },
   "source": [
    "Puede comprobar la exactitud de los valores obtenidos consultando el paquete polynomial.hermite.hermgauss de numpy a continuacion"
   ]
  },
  {
   "cell_type": "code",
   "execution_count": 8,
   "id": "270d40f0",
   "metadata": {
    "id": "270d40f0",
    "outputId": "dc29f68a-97fb-426a-b454-38694339c25a"
   },
   "outputs": [
    {
     "data": {
      "text/plain": [
       "(array([-5.38748089, -4.60368245, -3.94476404, -3.34785457, -2.78880606,\n",
       "        -2.254974  , -1.73853771, -1.23407622, -0.73747373, -0.24534071,\n",
       "         0.24534071,  0.73747373,  1.23407622,  1.73853771,  2.254974  ,\n",
       "         2.78880606,  3.34785457,  3.94476404,  4.60368245,  5.38748089]),\n",
       " array([2.22939365e-13, 4.39934099e-10, 1.08606937e-07, 7.80255648e-06,\n",
       "        2.28338636e-04, 3.24377334e-03, 2.48105209e-02, 1.09017206e-01,\n",
       "        2.86675505e-01, 4.62243670e-01, 4.62243670e-01, 2.86675505e-01,\n",
       "        1.09017206e-01, 2.48105209e-02, 3.24377334e-03, 2.28338636e-04,\n",
       "        7.80255648e-06, 1.08606937e-07, 4.39934099e-10, 2.22939365e-13]))"
      ]
     },
     "execution_count": 8,
     "metadata": {},
     "output_type": "execute_result"
    }
   ],
   "source": [
    "np.polynomial.hermite.hermgauss(20)"
   ]
  },
  {
   "cell_type": "code",
   "execution_count": 9,
   "id": "d1398d08",
   "metadata": {
    "id": "d1398d08"
   },
   "outputs": [],
   "source": [
    "HH = lambda x: ((1/2**0.5)*(1/np.pi)**(0.25)*(np.exp((-x**2)/2))*2*x)*(x**2)"
   ]
  },
  {
   "cell_type": "code",
   "execution_count": 25,
   "id": "bd920981",
   "metadata": {
    "id": "bd920981",
    "outputId": "d302a86f-b454-4821-a0f8-31fac3db97fb"
   },
   "outputs": [
    {
     "name": "stdout",
     "output_type": "stream",
     "text": [
      "(2.220446049250313e-16, 3.9087107937060366e-09)\n"
     ]
    }
   ],
   "source": [
    "from scipy import integrate\n",
    "from scipy.integrate import quad\n",
    "def shift_integrand(integrand, offset):\n",
    "    def dec(x):\n",
    "        return integrand(x - offset)\n",
    "    return dec\n",
    "def my_quad(func, a, b, midpoint=0.0, **kwargs):\n",
    "    if midpoint != 0.0:\n",
    "        func = shift_integrand(func, -midpoint)\n",
    "    return quad(func, a, b, **kwargs)\n",
    "HHH = my_quad(HH, -np.inf, np.inf, midpoint=-1)\n",
    "print(HHH)"
   ]
  },
  {
   "cell_type": "code",
   "execution_count": null,
   "id": "c2bd5b3e",
   "metadata": {},
   "outputs": [],
   "source": []
  }
 ],
 "metadata": {
  "colab": {
   "provenance": []
  },
  "kernelspec": {
   "display_name": "Python 3 (ipykernel)",
   "language": "python",
   "name": "python3"
  },
  "language_info": {
   "codemirror_mode": {
    "name": "ipython",
    "version": 3
   },
   "file_extension": ".py",
   "mimetype": "text/x-python",
   "name": "python",
   "nbconvert_exporter": "python",
   "pygments_lexer": "ipython3",
   "version": "3.9.7"
  }
 },
 "nbformat": 4,
 "nbformat_minor": 5
}
